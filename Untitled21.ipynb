{
 "cells": [
  {
   "cell_type": "code",
   "execution_count": 1,
   "metadata": {},
   "outputs": [
    {
     "name": "stdout",
     "output_type": "stream",
     "text": [
      "Requirement already up-to-date: tensorflow_datasets in c:\\users\\lalith\\anaconda3\\lib\\site-packages (1.0.2)\n",
      "Requirement already satisfied, skipping upgrade: wrapt in c:\\users\\lalith\\anaconda3\\lib\\site-packages (from tensorflow_datasets) (1.11.0)\n",
      "Requirement already satisfied, skipping upgrade: promise in c:\\users\\lalith\\anaconda3\\lib\\site-packages (from tensorflow_datasets) (2.2.1)\n",
      "Requirement already satisfied, skipping upgrade: psutil in c:\\users\\lalith\\anaconda3\\lib\\site-packages (from tensorflow_datasets) (5.4.8)\n",
      "Requirement already satisfied, skipping upgrade: requests in c:\\users\\lalith\\anaconda3\\lib\\site-packages (from tensorflow_datasets) (2.21.0)\n",
      "Requirement already satisfied, skipping upgrade: termcolor in c:\\users\\lalith\\anaconda3\\lib\\site-packages (from tensorflow_datasets) (1.1.0)\n",
      "Requirement already satisfied, skipping upgrade: dill in c:\\users\\lalith\\anaconda3\\lib\\site-packages (from tensorflow_datasets) (0.2.9)\n",
      "Requirement already satisfied, skipping upgrade: future in c:\\users\\lalith\\anaconda3\\lib\\site-packages (from tensorflow_datasets) (0.17.1)\n",
      "Requirement already satisfied, skipping upgrade: six in c:\\users\\lalith\\anaconda3\\lib\\site-packages (from tensorflow_datasets) (1.12.0)\n",
      "Requirement already satisfied, skipping upgrade: absl-py in c:\\users\\lalith\\anaconda3\\lib\\site-packages (from tensorflow_datasets) (0.7.0)\n",
      "Requirement already satisfied, skipping upgrade: tqdm in c:\\users\\lalith\\anaconda3\\lib\\site-packages (from tensorflow_datasets) (4.29.1)\n",
      "Requirement already satisfied, skipping upgrade: protobuf>=3.6.1 in c:\\users\\lalith\\anaconda3\\lib\\site-packages (from tensorflow_datasets) (3.6.1)\n",
      "Requirement already satisfied, skipping upgrade: tensorflow-metadata in c:\\users\\lalith\\anaconda3\\lib\\site-packages (from tensorflow_datasets) (0.13.0)\n",
      "Requirement already satisfied, skipping upgrade: numpy in c:\\users\\lalith\\anaconda3\\lib\\site-packages (from tensorflow_datasets) (1.15.4)\n",
      "Requirement already satisfied, skipping upgrade: urllib3<1.25,>=1.21.1 in c:\\users\\lalith\\anaconda3\\lib\\site-packages (from requests->tensorflow_datasets) (1.24.1)\n",
      "Requirement already satisfied, skipping upgrade: certifi>=2017.4.17 in c:\\users\\lalith\\anaconda3\\lib\\site-packages (from requests->tensorflow_datasets) (2019.3.9)\n",
      "Requirement already satisfied, skipping upgrade: chardet<3.1.0,>=3.0.2 in c:\\users\\lalith\\anaconda3\\lib\\site-packages (from requests->tensorflow_datasets) (3.0.4)\n",
      "Requirement already satisfied, skipping upgrade: idna<2.9,>=2.5 in c:\\users\\lalith\\anaconda3\\lib\\site-packages (from requests->tensorflow_datasets) (2.8)\n",
      "Requirement already satisfied, skipping upgrade: setuptools in c:\\users\\lalith\\anaconda3\\lib\\site-packages (from protobuf>=3.6.1->tensorflow_datasets) (40.6.3)\n",
      "Requirement already satisfied, skipping upgrade: googleapis-common-protos in c:\\users\\lalith\\anaconda3\\lib\\site-packages (from tensorflow-metadata->tensorflow_datasets) (1.6.0)\n"
     ]
    }
   ],
   "source": [
    "!pip install -U tensorflow_datasets"
   ]
  },
  {
   "cell_type": "code",
   "execution_count": null,
   "metadata": {},
   "outputs": [],
   "source": []
  }
 ],
 "metadata": {
  "kernelspec": {
   "display_name": "Python 3",
   "language": "python",
   "name": "python3"
  },
  "language_info": {
   "codemirror_mode": {
    "name": "ipython",
    "version": 3
   },
   "file_extension": ".py",
   "mimetype": "text/x-python",
   "name": "python",
   "nbconvert_exporter": "python",
   "pygments_lexer": "ipython3",
   "version": "3.6.8"
  }
 },
 "nbformat": 4,
 "nbformat_minor": 2
}
