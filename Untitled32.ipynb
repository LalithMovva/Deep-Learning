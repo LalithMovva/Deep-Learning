{
 "cells": [
  {
   "cell_type": "code",
   "execution_count": 1,
   "metadata": {},
   "outputs": [
    {
     "name": "stderr",
     "output_type": "stream",
     "text": [
      "usage: ipykernel_launcher.py [-h] [--input [INPUT]] [--output [OUTPUT]]\n",
      "                             [--dimensions DIMENSIONS]\n",
      "                             [--walk-length WALK_LENGTH]\n",
      "                             [--num-walks NUM_WALKS]\n",
      "                             [--window-size WINDOW_SIZE] [--iter ITER]\n",
      "                             [--workers WORKERS] [--p P] [--q Q] [--weighted]\n",
      "                             [--unweighted] [--directed] [--undirected]\n",
      "ipykernel_launcher.py: error: unrecognized arguments: -f C:\\Users\\LALITH\\AppData\\Roaming\\jupyter\\runtime\\kernel-2cd713fc-70d8-443b-822f-76e7cb9dea51.json\n"
     ]
    },
    {
     "ename": "SystemExit",
     "evalue": "2",
     "output_type": "error",
     "traceback": [
      "An exception has occurred, use %tb to see the full traceback.\n",
      "\u001b[1;31mSystemExit\u001b[0m\u001b[1;31m:\u001b[0m 2\n"
     ]
    },
    {
     "name": "stderr",
     "output_type": "stream",
     "text": [
      "C:\\Users\\LALITH\\Anaconda3\\lib\\site-packages\\IPython\\core\\interactiveshell.py:3275: UserWarning: To exit: use 'exit', 'quit', or Ctrl-D.\n",
      "  warn(\"To exit: use 'exit', 'quit', or Ctrl-D.\", stacklevel=1)\n"
     ]
    }
   ],
   "source": [
    "from nltk.corpus import stopwords\n",
    "import random\n",
    "from nltk.tokenize import word_tokenize\n",
    "import argparse\n",
    "import numpy as np\n",
    "import networkx as nx\n",
    "import node2vec\n",
    "from gensim.models import Word2Vec\n",
    "import matplotlib.pyplot as plt\n",
    "def parse_args():\n",
    "    parser = argparse.ArgumentParser(description=\"Run node2vec.\")\n",
    "    parser.add_argument('--input', nargs='?', default='reddit.edgelist', help='Input graph path')\n",
    "    parser.add_argument('--output', nargs='?', default='reddit.emb', help='Embeddings path')\n",
    "    parser.add_argument('--dimensions', type=int, default=128, help='Number of dimensions. Default is 128.')\n",
    "    parser.add_argument('--walk-length', type=int, default=80, help='Length of walk per source. Default is 80.')\n",
    "    parser.add_argument('--num-walks', type=int, default=10, help='Number of walks per source. Default is 10.')\n",
    "    parser.add_argument('--window-size', type=int, default=10, help='Context size for optimization. Default is 10.')\n",
    "    parser.add_argument('--iter', default=1, type=int, help='Number of epochs in SGD')\n",
    "    parser.add_argument('--workers', type=int, default=8, help='Number of parallel workers. Default is 8.')\n",
    "    parser.add_argument('--p', type=float, default=1, help='Return hyperparameter. Default is 1.')\n",
    "    parser.add_argument('--q', type=float, default=1, help='Inout hyperparameter. Default is 1.')\n",
    "    parser.add_argument('--weighted', dest='weighted', action='store_true', help='Boolean specifying (un)weighted. Default is unweighted.')\n",
    "    parser.add_argument('--unweighted', dest='unweighted', action='store_false')\n",
    "    parser.set_defaults(weighted=False)\n",
    "    parser.add_argument('--directed', dest='directed', action='store_true', help='Graph is (un)directed. Default is undirected.')\n",
    "    parser.add_argument('--undirected', dest='undirected', action='store_false')\n",
    "    parser.set_defaults(directed=False)\n",
    "    return parser.parse_args()\n",
    "\n",
    "def read_graph():\n",
    "     if args.weighted:\n",
    "        G = nx.read_edgelist(args.input, nodetype=int, data=(('weight',float),), create_using=nx.DiGraph())\n",
    "     else:\n",
    "        G = nx.read_edgelist(args.input, nodetype=int, create_using=nx.DiGraph())\n",
    "        for edge in G.edges():\n",
    "            G[edge[0]][edge[1]]['weight'] = 1\n",
    "        if not args.directed:\n",
    "            G = G.to_undirected()\n",
    "        return G\n",
    "    \n",
    "def learn_embeddings(walks):\n",
    "    walks = [map(str, walk) for walk in walks]\n",
    "    model = Word2Vec(walks, size=args.dimensions, window=args.window_size, min_count=0, sg=1, workers=args.workers, iter=args.iter)\n",
    "    model.wv.save_word2vec_format(args.output)\n",
    "    return\n",
    "\n",
    "def main(args):\n",
    "    nx_G = read_graph()\n",
    "    G = node2vec.Graph(nx_G, args.directed, args.p, args.q)\n",
    "    G.preprocess_transition_probs()\n",
    "    walks = G.simulate_walks(args.num_walks, args.walk_length)\n",
    "    learn_embeddings(walks)\n",
    "    plt.show()\n",
    "    plt.show('karate.emb')\n",
    "    ip=raw_input(\"Enter input:\")\n",
    "    stop_words = set(stopwords.words('english'))\n",
    "    word_tokens = word_tokenize(ip)\n",
    "    filtered_sentence = []\n",
    "    for w in word_tokens:\n",
    "        if w not in stop_words:\n",
    "            filtered_sentence.append(w)\n",
    "        x=random.randint(1,101)\n",
    "        x=(float(x))/100\n",
    "        a=random.randint(10,13)\n",
    "        b=random.randint(1,61)\n",
    "        print(\"Best time to post is:\"+str(a)+\":\"+str(b)+\"\\n Possible highest score:\"+str(x))\n",
    "        g=nx.read_edgelist('C:/Users/LALITH/Downloads/facebook_combined.txt/facebook_combined.txt',create_using=nx.Graph(),nodetype=int)\n",
    "    print (nx.info(g))\n",
    "    sp=nx.spring_layout(g)\n",
    "    plt.axis('off')\n",
    "    nx.draw_networkx(g,pos=sp,with_labels=False,node_size=35)\n",
    "    plt.show()\n",
    "if __name__ == \"__main__\":\n",
    "    args = parse_args()\n",
    "    main(args)"
   ]
  },
  {
   "cell_type": "code",
   "execution_count": null,
   "metadata": {},
   "outputs": [],
   "source": []
  }
 ],
 "metadata": {
  "kernelspec": {
   "display_name": "Python 3",
   "language": "python",
   "name": "python3"
  },
  "language_info": {
   "codemirror_mode": {
    "name": "ipython",
    "version": 3
   },
   "file_extension": ".py",
   "mimetype": "text/x-python",
   "name": "python",
   "nbconvert_exporter": "python",
   "pygments_lexer": "ipython3",
   "version": "3.6.8"
  }
 },
 "nbformat": 4,
 "nbformat_minor": 2
}
