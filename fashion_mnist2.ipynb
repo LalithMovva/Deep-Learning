{
 "cells": [
  {
   "cell_type": "code",
   "execution_count": 1,
   "metadata": {},
   "outputs": [
    {
     "name": "stdout",
     "output_type": "stream",
     "text": [
      "Epoch 1/5\n",
      "60000/60000 [==============================] - 17s 279us/step - loss: 0.2643 - acc: 0.92494s - l\n",
      "Epoch 2/5\n",
      "60000/60000 [==============================] - 16s 263us/step - loss: 0.1137 - acc: 0.9663\n",
      "Epoch 3/5\n",
      "60000/60000 [==============================] - 16s 262us/step - loss: 0.0779 - acc: 0.97635s - lo - ETA: 1s - loss: 0 - ETA: 0s - loss: 0.0783 - acc: \n",
      "Epoch 4/5\n",
      "60000/60000 [==============================] - 16s 261us/step - loss: 0.0579 - acc: 0.9824\n",
      "Epoch 5/5\n",
      "60000/60000 [==============================] - 16s 266us/step - loss: 0.0451 - acc: 0.9864\n",
      "10000/10000 [==============================] - 2s 176us/step\n",
      "[7.7504716e-08 5.7552466e-08 6.0436974e-05 1.2324493e-03 7.3941509e-13\n",
      " 1.0716934e-06 2.9227256e-12 9.9862158e-01 5.3059859e-05 3.1138308e-05]\n",
      "7\n"
     ]
    }
   ],
   "source": [
    "import tensorflow as tf\n",
    "\n",
    "fashion_mnist = tf.keras.datasets.mnist\n",
    "\n",
    "(training_images, training_labels) , (test_images, test_labels) = fashion_mnist.load_data()\n",
    "\n",
    "training_images = training_images/ 255.0\n",
    "test_images = test_images/ 255.0\n",
    "\n",
    "model = tf.keras.Sequential([tf.keras.layers.Flatten(),\n",
    "                            tf.keras.layers.Dense(128, activation=tf.nn.relu),\n",
    "                            tf.keras.layers.Dense(10, activation=tf.nn.softmax)])\n",
    "\n",
    "model.compile(optimizer = 'adam', \n",
    "              loss = 'sparse_categorical_crossentropy',\n",
    "             metrics=['accuracy'])\n",
    "\n",
    "model.fit(training_images, training_labels, epochs=5)\n",
    "\n",
    "model.evaluate(test_images, test_labels)\n",
    "\n",
    "classifications = model.predict(test_images)\n",
    "\n",
    "print(classifications[0])\n",
    "\n",
    "print(test_labels[0])"
   ]
  },
  {
   "cell_type": "code",
   "execution_count": null,
   "metadata": {},
   "outputs": [],
   "source": []
  }
 ],
 "metadata": {
  "kernelspec": {
   "display_name": "Python 3",
   "language": "python",
   "name": "python3"
  },
  "language_info": {
   "codemirror_mode": {
    "name": "ipython",
    "version": 3
   },
   "file_extension": ".py",
   "mimetype": "text/x-python",
   "name": "python",
   "nbconvert_exporter": "python",
   "pygments_lexer": "ipython3",
   "version": "3.6.8"
  }
 },
 "nbformat": 4,
 "nbformat_minor": 2
}
