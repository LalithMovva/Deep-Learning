{
  "nbformat": 4,
  "nbformat_minor": 0,
  "metadata": {
    "colab": {
      "name": "IMDB_Text_Classification.ipynb",
      "provenance": [],
      "collapsed_sections": []
    },
    "kernelspec": {
      "name": "python3",
      "display_name": "Python 3"
    },
    "accelerator": "GPU"
  },
  "cells": [
    {
      "cell_type": "code",
      "metadata": {
        "id": "n2TM7yzUoRwV",
        "colab_type": "code",
        "colab": {
          "base_uri": "https://localhost:8080/",
          "height": 85
        },
        "outputId": "12a1465e-6c0a-4c33-d084-851f23b38b5c"
      },
      "source": [
        "from __future__ import absolute_import, division, print_function, unicode_literals\n",
        "\n",
        "import numpy as np\n",
        "\n",
        "import tensorflow as tf\n",
        "\n",
        "import tensorflow_hub as hub\n",
        "import tensorflow_datasets as tfds\n",
        "\n",
        "print(\"Version: \", tf.__version__)\n",
        "print(\"Eager mode: \", tf.executing_eagerly())\n",
        "print(\"Hub version: \", hub.__version__)\n",
        "print(\"GPU is\", \"available\" if tf.config.experimental.list_physical_devices(\"GPU\") else \"NOT AVAILABLE\")"
      ],
      "execution_count": 1,
      "outputs": [
        {
          "output_type": "stream",
          "text": [
            "Version:  2.0.0\n",
            "Eager mode:  True\n",
            "Hub version:  0.6.0\n",
            "GPU is NOT AVAILABLE\n"
          ],
          "name": "stdout"
        }
      ]
    },
    {
      "cell_type": "code",
      "metadata": {
        "id": "4gh1JOCroW-O",
        "colab_type": "code",
        "colab": {}
      },
      "source": [
        "train_validation_split = tfds.Split.TRAIN.subsplit([6,4])\n",
        "\n",
        "(train_data, validation_data), test_data = tfds.load(\n",
        "    name=\"imdb_reviews\",\n",
        "    split = (train_validation_split, tfds.Split.TEST),\n",
        "    as_supervised = True\n",
        ")\n"
      ],
      "execution_count": 0,
      "outputs": []
    },
    {
      "cell_type": "code",
      "metadata": {
        "id": "7FNIVsX7x_cQ",
        "colab_type": "code",
        "colab": {}
      },
      "source": [
        "embedding = \"https://tfhub.dev/google/tf2-preview/gnews-swivel-20dim/1\"\n",
        "hub_layer = hub.KerasLayer(embedding, input_shape=[], dtype=tf.string, trainable = True)"
      ],
      "execution_count": 0,
      "outputs": []
    },
    {
      "cell_type": "code",
      "metadata": {
        "id": "lUjoZjEe0lLi",
        "colab_type": "code",
        "colab": {}
      },
      "source": [
        "model = tf.keras.Sequential()\n",
        "model.add(hub_layer)\n",
        "model.add(tf.keras.layers.Dense(16, activation='relu'))\n",
        "model.add(tf.keras.layers.Dense(1, activation='sigmoid'))"
      ],
      "execution_count": 0,
      "outputs": []
    },
    {
      "cell_type": "code",
      "metadata": {
        "id": "MUpYMrR81Foz",
        "colab_type": "code",
        "colab": {
          "base_uri": "https://localhost:8080/",
          "height": 255
        },
        "outputId": "3b1e85fb-c778-4385-ad31-7ab9acb00e7a"
      },
      "source": [
        "model.summary()"
      ],
      "execution_count": 5,
      "outputs": [
        {
          "output_type": "stream",
          "text": [
            "Model: \"sequential\"\n",
            "_________________________________________________________________\n",
            "Layer (type)                 Output Shape              Param #   \n",
            "=================================================================\n",
            "keras_layer (KerasLayer)     (None, 20)                400020    \n",
            "_________________________________________________________________\n",
            "dense (Dense)                (None, 16)                336       \n",
            "_________________________________________________________________\n",
            "dense_1 (Dense)              (None, 1)                 17        \n",
            "=================================================================\n",
            "Total params: 400,373\n",
            "Trainable params: 400,373\n",
            "Non-trainable params: 0\n",
            "_________________________________________________________________\n"
          ],
          "name": "stdout"
        }
      ]
    },
    {
      "cell_type": "code",
      "metadata": {
        "id": "unOc8dIY1K8H",
        "colab_type": "code",
        "colab": {}
      },
      "source": [
        "model.compile(loss='binary_crossentropy', optimizer='adam', metrics=['accuracy'])"
      ],
      "execution_count": 0,
      "outputs": []
    },
    {
      "cell_type": "code",
      "metadata": {
        "id": "pcMRqwWi1Yja",
        "colab_type": "code",
        "colab": {
          "base_uri": "https://localhost:8080/",
          "height": 714
        },
        "outputId": "57e305d8-f0b0-4899-c0e3-5abfce5a9ecd"
      },
      "source": [
        "model.fit(train_data.shuffle(10000).batch(512),\n",
        "         epochs=20,\n",
        "         validation_data = validation_data.batch(512),\n",
        "         verbose=1)"
      ],
      "execution_count": 7,
      "outputs": [
        {
          "output_type": "stream",
          "text": [
            "Epoch 1/20\n",
            "30/30 [==============================] - 8s 279ms/step - loss: 1.1084 - accuracy: 0.4509 - val_loss: 0.0000e+00 - val_accuracy: 0.0000e+00\n",
            "Epoch 2/20\n",
            "30/30 [==============================] - 7s 249ms/step - loss: 0.7815 - accuracy: 0.5059 - val_loss: 0.6857 - val_accuracy: 0.5902\n",
            "Epoch 3/20\n",
            "30/30 [==============================] - 7s 246ms/step - loss: 0.6510 - accuracy: 0.6360 - val_loss: 0.6213 - val_accuracy: 0.6598\n",
            "Epoch 4/20\n",
            "30/30 [==============================] - 8s 251ms/step - loss: 0.5983 - accuracy: 0.6863 - val_loss: 0.5844 - val_accuracy: 0.6921\n",
            "Epoch 5/20\n",
            "30/30 [==============================] - 8s 254ms/step - loss: 0.5608 - accuracy: 0.7196 - val_loss: 0.5542 - val_accuracy: 0.7168\n",
            "Epoch 6/20\n",
            "30/30 [==============================] - 8s 253ms/step - loss: 0.5292 - accuracy: 0.7463 - val_loss: 0.5234 - val_accuracy: 0.7421\n",
            "Epoch 7/20\n",
            "30/30 [==============================] - 7s 248ms/step - loss: 0.4927 - accuracy: 0.7713 - val_loss: 0.4938 - val_accuracy: 0.7631\n",
            "Epoch 8/20\n",
            "30/30 [==============================] - 8s 251ms/step - loss: 0.4592 - accuracy: 0.7965 - val_loss: 0.4653 - val_accuracy: 0.7834\n",
            "Epoch 9/20\n",
            "30/30 [==============================] - 7s 247ms/step - loss: 0.4221 - accuracy: 0.8149 - val_loss: 0.4394 - val_accuracy: 0.7985\n",
            "Epoch 10/20\n",
            "30/30 [==============================] - 7s 248ms/step - loss: 0.3956 - accuracy: 0.8341 - val_loss: 0.4151 - val_accuracy: 0.8153\n",
            "Epoch 11/20\n",
            "30/30 [==============================] - 8s 252ms/step - loss: 0.3701 - accuracy: 0.8497 - val_loss: 0.3950 - val_accuracy: 0.8274\n",
            "Epoch 12/20\n",
            "30/30 [==============================] - 8s 254ms/step - loss: 0.3378 - accuracy: 0.8642 - val_loss: 0.3771 - val_accuracy: 0.8353\n",
            "Epoch 13/20\n",
            "30/30 [==============================] - 8s 250ms/step - loss: 0.3165 - accuracy: 0.8752 - val_loss: 0.3632 - val_accuracy: 0.8427\n",
            "Epoch 14/20\n",
            "30/30 [==============================] - 8s 253ms/step - loss: 0.2936 - accuracy: 0.8845 - val_loss: 0.3507 - val_accuracy: 0.8486\n",
            "Epoch 15/20\n",
            "30/30 [==============================] - 8s 255ms/step - loss: 0.2723 - accuracy: 0.8925 - val_loss: 0.3390 - val_accuracy: 0.8552\n",
            "Epoch 16/20\n",
            "30/30 [==============================] - 8s 253ms/step - loss: 0.2556 - accuracy: 0.9015 - val_loss: 0.3288 - val_accuracy: 0.8593\n",
            "Epoch 17/20\n",
            "30/30 [==============================] - 8s 251ms/step - loss: 0.2384 - accuracy: 0.9109 - val_loss: 0.3223 - val_accuracy: 0.8639\n",
            "Epoch 18/20\n",
            "30/30 [==============================] - 8s 258ms/step - loss: 0.2249 - accuracy: 0.9170 - val_loss: 0.3165 - val_accuracy: 0.8661\n",
            "Epoch 19/20\n",
            "30/30 [==============================] - 8s 257ms/step - loss: 0.2120 - accuracy: 0.9237 - val_loss: 0.3132 - val_accuracy: 0.8681\n",
            "Epoch 20/20\n",
            "30/30 [==============================] - 7s 250ms/step - loss: 0.2002 - accuracy: 0.9298 - val_loss: 0.3078 - val_accuracy: 0.8719\n"
          ],
          "name": "stdout"
        },
        {
          "output_type": "execute_result",
          "data": {
            "text/plain": [
              "<tensorflow.python.keras.callbacks.History at 0x7f00f2936dd8>"
            ]
          },
          "metadata": {
            "tags": []
          },
          "execution_count": 7
        }
      ]
    },
    {
      "cell_type": "code",
      "metadata": {
        "id": "fGE_9EUB22oS",
        "colab_type": "code",
        "colab": {
          "base_uri": "https://localhost:8080/",
          "height": 34
        },
        "outputId": "76ac255c-0799-44c4-8ce1-4bce95cb44c1"
      },
      "source": [
        "test_loss, test_accuracy = model.evaluate(test_data.batch(512))"
      ],
      "execution_count": 8,
      "outputs": [
        {
          "output_type": "stream",
          "text": [
            "49/49 [==============================] - 5s 104ms/step - loss: 0.3268 - accuracy: 0.8578\n"
          ],
          "name": "stdout"
        }
      ]
    },
    {
      "cell_type": "code",
      "metadata": {
        "id": "_r14f43dBukG",
        "colab_type": "code",
        "colab": {
          "base_uri": "https://localhost:8080/",
          "height": 34
        },
        "outputId": "4a8313c2-2e04-4c9b-ab14-08e4a0ac0ac7"
      },
      "source": [
        "test_loss"
      ],
      "execution_count": 9,
      "outputs": [
        {
          "output_type": "execute_result",
          "data": {
            "text/plain": [
              "0.32683147216329766"
            ]
          },
          "metadata": {
            "tags": []
          },
          "execution_count": 9
        }
      ]
    },
    {
      "cell_type": "code",
      "metadata": {
        "id": "-azGHSqaDWKv",
        "colab_type": "code",
        "colab": {
          "base_uri": "https://localhost:8080/",
          "height": 34
        },
        "outputId": "2bf6a487-c6d3-4a2e-bd52-45e6ddc85891"
      },
      "source": [
        "test_accuracy"
      ],
      "execution_count": 10,
      "outputs": [
        {
          "output_type": "execute_result",
          "data": {
            "text/plain": [
              "0.8578"
            ]
          },
          "metadata": {
            "tags": []
          },
          "execution_count": 10
        }
      ]
    },
    {
      "cell_type": "code",
      "metadata": {
        "id": "OOCYk4GVDYSO",
        "colab_type": "code",
        "colab": {}
      },
      "source": [
        ""
      ],
      "execution_count": 0,
      "outputs": []
    }
  ]
}