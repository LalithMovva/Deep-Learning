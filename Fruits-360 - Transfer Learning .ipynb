{
 "cells": [
  {
   "cell_type": "code",
   "execution_count": 36,
   "metadata": {
    "_uuid": "5fb6f88bc4f488d8a80977aa5615b48865f1f0f1"
   },
   "outputs": [],
   "source": [
    "import os \n",
    "import tensorflow as tf\n",
    "from tensorflow.keras.preprocessing.image import ImageDataGenerator\n",
    "import matplotlib.pyplot as plt\n",
    "import numpy as np\n",
    "import cv2 as cv"
   ]
  },
  {
   "cell_type": "code",
   "execution_count": 3,
   "metadata": {},
   "outputs": [
    {
     "name": "stdout",
     "output_type": "stream",
     "text": [
      "['LICENSE', 'test-multiple_fruits', 'papers', 'Training', 'readme.md', 'Test']\n"
     ]
    }
   ],
   "source": [
    "print(os.listdir('../input/fruits/fruits-360_dataset/fruits-360/'))"
   ]
  },
  {
   "cell_type": "code",
   "execution_count": 11,
   "metadata": {},
   "outputs": [
    {
     "name": "stdout",
     "output_type": "stream",
     "text": [
      "['r_242_100.jpg', '194_100.jpg', '70_100.jpg', 'r_250_100.jpg', 'r_131_100.jpg', 'r_29_100.jpg', '58_100.jpg', 'r_205_100.jpg', '290_100.jpg', 'r_183_100.jpg', '48_100.jpg', '291_100.jpg', '171_100.jpg', 'r_228_100.jpg', 'r_15_100.jpg', 'r_220_100.jpg', 'r_281_100.jpg', '77_100.jpg', '323_100.jpg', 'r_297_100.jpg', 'r_149_100.jpg', '227_100.jpg', 'r_223_100.jpg', '268_100.jpg', '255_100.jpg', 'r_155_100.jpg', 'r_26_100.jpg', 'r_188_100.jpg', '259_100.jpg', 'r_277_100.jpg', '181_100.jpg', 'r_133_100.jpg', '42_100.jpg', '262_100.jpg', 'r_252_100.jpg', 'r_12_100.jpg', '68_100.jpg', 'r_257_100.jpg', '92_100.jpg', 'r_216_100.jpg', '189_100.jpg', 'r_157_100.jpg', 'r_156_100.jpg', '54_100.jpg', '296_100.jpg', 'r_241_100.jpg', '308_100.jpg', 'r_192_100.jpg', '47_100.jpg', 'r_120_100.jpg', 'r_246_100.jpg', 'r_292_100.jpg', '211_100.jpg', 'r_306_100.jpg', '223_100.jpg', 'r_176_100.jpg', 'r_4_100.jpg', 'r_312_100.jpg', '60_100.jpg', '228_100.jpg', '164_100.jpg', 'r_147_100.jpg', '89_100.jpg', 'r_128_100.jpg', '196_100.jpg', 'r_300_100.jpg', '37_100.jpg', 'r_272_100.jpg', 'r_56_100.jpg', 'r_166_100.jpg', '214_100.jpg', 'r_204_100.jpg', '74_100.jpg', '261_100.jpg', '141_100.jpg', '309_100.jpg', 'r_168_100.jpg', 'r_196_100.jpg', 'r_284_100.jpg', '78_100.jpg', 'r_256_100.jpg', 'r_290_100.jpg', '249_100.jpg', '26_100.jpg', 'r_225_100.jpg', 'r_10_100.jpg', '224_100.jpg', 'r_266_100.jpg', '24_100.jpg', '167_100.jpg', '163_100.jpg', 'r_189_100.jpg', 'r_235_100.jpg', '186_100.jpg', '215_100.jpg', 'r_59_100.jpg', 'r_123_100.jpg', '292_100.jpg', 'r_153_100.jpg', '3_100.jpg', 'r_296_100.jpg', '180_100.jpg', 'r_255_100.jpg', 'r_212_100.jpg', 'r_259_100.jpg', 'r_134_100.jpg', 'r_232_100.jpg', '33_100.jpg', 'r_5_100.jpg', 'r_238_100.jpg', 'r_150_100.jpg', 'r_191_100.jpg', '272_100.jpg', '67_100.jpg', '144_100.jpg', 'r_320_100.jpg', 'r_167_100.jpg', '63_100.jpg', '270_100.jpg', '248_100.jpg', 'r_139_100.jpg', 'r_61_100.jpg', 'r_135_100.jpg', '210_100.jpg', '179_100.jpg', '247_100.jpg', '195_100.jpg', '173_100.jpg', 'r_20_100.jpg', '310_100.jpg', '238_100.jpg', 'r_18_100.jpg', 'r_200_100.jpg', '314_100.jpg', '273_100.jpg', 'r_269_100.jpg', '169_100.jpg', '306_100.jpg', 'r_304_100.jpg', 'r_211_100.jpg', '59_100.jpg', 'r_165_100.jpg', '324_100.jpg', 'r_291_100.jpg', 'r_115_100.jpg', '174_100.jpg', '52_100.jpg', '219_100.jpg', '201_100.jpg', '27_100.jpg', 'r_161_100.jpg', '1_100.jpg', 'r_124_100.jpg', '57_100.jpg', '307_100.jpg', '209_100.jpg', 'r_197_100.jpg', 'r_288_100.jpg', 'r_208_100.jpg', '192_100.jpg', 'r_179_100.jpg', 'r_24_100.jpg', 'r_182_100.jpg', '188_100.jpg', '212_100.jpg', '45_100.jpg', 'r_273_100.jpg', '226_100.jpg', 'r_325_100.jpg', '256_100.jpg', '155_100.jpg', 'r_248_100.jpg', '193_100.jpg', '159_100.jpg', '191_100.jpg', '200_100.jpg', '289_100.jpg', '198_100.jpg', 'r_282_100.jpg', '41_100.jpg', '22_100.jpg', '235_100.jpg', 'r_13_100.jpg', '312_100.jpg', 'r_151_100.jpg', 'r_129_100.jpg', '216_100.jpg', 'r_60_100.jpg', '75_100.jpg', '206_100.jpg', 'r_58_100.jpg', 'r_40_100.jpg', 'r_132_100.jpg', 'r_145_100.jpg', '213_100.jpg', '31_100.jpg', 'r_283_100.jpg', '230_100.jpg', 'r_221_100.jpg', 'r_190_100.jpg', 'r_227_100.jpg', 'r_175_100.jpg', '297_100.jpg', 'r_213_100.jpg', 'r_146_100.jpg', 'r_276_100.jpg', 'r_16_100.jpg', 'r_39_100.jpg', 'r_180_100.jpg', '241_100.jpg', 'r_187_100.jpg', '35_100.jpg', '154_100.jpg', 'r_218_100.jpg', 'r_263_100.jpg', 'r_244_100.jpg', 'r_240_100.jpg', '321_100.jpg', 'r_286_100.jpg', '157_100.jpg', '51_100.jpg', 'r_169_100.jpg', '86_100.jpg', '39_100.jpg', 'r_201_100.jpg', 'r_2_100.jpg', 'r_226_100.jpg', '231_100.jpg', 'r_234_100.jpg', '34_100.jpg', '267_100.jpg', 'r_11_100.jpg', 'r_121_100.jpg', '203_100.jpg', 'r_163_100.jpg', 'r_7_100.jpg', '204_100.jpg', '49_100.jpg', '15_100.jpg', 'r_152_100.jpg', 'r_186_100.jpg', 'r_14_100.jpg', 'r_158_100.jpg', 'r_125_100.jpg', 'r_268_100.jpg', 'r_247_100.jpg', 'r_245_100.jpg', '44_100.jpg', 'r_23_100.jpg', '322_100.jpg', 'r_302_100.jpg', '221_100.jpg', 'r_1_100.jpg', '260_100.jpg', 'r_38_100.jpg', '156_100.jpg', 'r_305_100.jpg', '81_100.jpg', '229_100.jpg', 'r_194_100.jpg', '207_100.jpg', '237_100.jpg', 'r_198_100.jpg', '170_100.jpg', '320_100.jpg', '326_100.jpg', 'r_19_100.jpg', 'r_295_100.jpg', '30_100.jpg', '53_100.jpg', 'r_28_100.jpg', '269_100.jpg', 'r_174_100.jpg', 'r_8_100.jpg', '149_100.jpg', '76_100.jpg', '185_100.jpg', 'r_285_100.jpg', '304_100.jpg', 'r_160_100.jpg', 'r_171_100.jpg', '187_100.jpg', '202_100.jpg', 'r_142_100.jpg', 'r_215_100.jpg', '32_100.jpg', 'r_3_100.jpg', '218_100.jpg', 'r_260_100.jpg', '140_100.jpg', 'r_41_100.jpg', 'r_224_100.jpg', '145_100.jpg', 'r_207_100.jpg', '17_100.jpg', 'r_327_100.jpg', '166_100.jpg', '225_100.jpg', 'r_324_100.jpg', '242_100.jpg', '325_100.jpg', 'r_22_100.jpg', '240_100.jpg', 'r_209_100.jpg', 'r_203_100.jpg', 'r_143_100.jpg', '197_100.jpg', '252_100.jpg', 'r_162_100.jpg', '250_100.jpg', 'r_154_100.jpg', 'r_122_100.jpg', 'r_258_100.jpg', '294_100.jpg', '327_100.jpg', 'r_237_100.jpg', '233_100.jpg', 'r_278_100.jpg', 'r_202_100.jpg', 'r_219_100.jpg', 'r_289_100.jpg', 'r_301_100.jpg', 'r_279_100.jpg', 'r_178_100.jpg', 'r_253_100.jpg', 'r_137_100.jpg', '79_100.jpg', 'r_130_100.jpg', '239_100.jpg', 'r_159_100.jpg', '153_100.jpg', 'r_141_100.jpg', '64_100.jpg', '313_100.jpg', '147_100.jpg', 'r_264_100.jpg', 'r_148_100.jpg', '311_100.jpg', '55_100.jpg', '205_100.jpg', 'r_231_100.jpg', 'r_36_100.jpg', 'r_184_100.jpg', 'r_126_100.jpg', '62_100.jpg', '38_100.jpg', '293_100.jpg', 'r_243_100.jpg', '83_100.jpg', '316_100.jpg', '29_100.jpg', '234_100.jpg', 'r_303_100.jpg', '162_100.jpg', '152_100.jpg', 'r_262_100.jpg', 'r_280_100.jpg', '43_100.jpg', 'r_254_100.jpg', 'r_298_100.jpg', '151_100.jpg', '172_100.jpg', '317_100.jpg', 'r_319_100.jpg', '150_100.jpg', 'r_21_100.jpg', '84_100.jpg', 'r_17_100.jpg', '72_100.jpg', 'r_127_100.jpg', 'r_32_100.jpg', '13_100.jpg', '25_100.jpg', 'r_33_100.jpg', 'r_144_100.jpg', '0_100.jpg', '177_100.jpg', 'r_270_100.jpg', '243_100.jpg', '182_100.jpg', 'r_25_100.jpg', 'r_294_100.jpg', 'r_265_100.jpg', 'r_30_100.jpg', '50_100.jpg', 'r_274_100.jpg', '66_100.jpg', 'r_251_100.jpg', '28_100.jpg', '143_100.jpg', '69_100.jpg', '36_100.jpg', '190_100.jpg', 'r_314_100.jpg', 'r_322_100.jpg', '21_100.jpg', '288_100.jpg', '160_100.jpg', 'r_170_100.jpg', 'r_229_100.jpg', '305_100.jpg', '14_100.jpg', '253_100.jpg', '184_100.jpg', '220_100.jpg', 'r_43_100.jpg', '40_100.jpg', 'r_210_100.jpg', '176_100.jpg', '158_100.jpg', 'r_195_100.jpg', 'r_249_100.jpg', 'r_185_100.jpg', 'r_193_100.jpg', '71_100.jpg', 'r_214_100.jpg', 'r_164_100.jpg', 'r_236_100.jpg', '232_100.jpg', '178_100.jpg', 'r_0_100.jpg', '142_100.jpg', '244_100.jpg', '16_100.jpg', '298_100.jpg', '161_100.jpg', '199_100.jpg', '303_100.jpg', '20_100.jpg', '295_100.jpg', '315_100.jpg', '73_100.jpg', 'r_172_100.jpg', '318_100.jpg', '65_100.jpg', 'r_261_100.jpg', 'r_267_100.jpg', '165_100.jpg', '222_100.jpg', 'r_222_100.jpg', '302_100.jpg', '168_100.jpg', '183_100.jpg', 'r_64_100.jpg', 'r_206_100.jpg', 'r_275_100.jpg', '146_100.jpg', '217_100.jpg', '300_100.jpg', '18_100.jpg', '245_100.jpg', '56_100.jpg', '85_100.jpg', 'r_217_100.jpg', 'r_287_100.jpg', '319_100.jpg', '236_100.jpg', 'r_9_100.jpg', '2_100.jpg', '264_100.jpg', 'r_271_100.jpg', 'r_181_100.jpg', '251_100.jpg', '90_100.jpg', '61_100.jpg', 'r_293_100.jpg', 'r_138_100.jpg', 'r_140_100.jpg', 'r_173_100.jpg', 'r_233_100.jpg', '23_100.jpg', 'r_66_100.jpg', 'r_177_100.jpg', 'r_230_100.jpg', 'r_136_100.jpg', '208_100.jpg', 'r_27_100.jpg', '299_100.jpg', '148_100.jpg', 'r_239_100.jpg', 'r_31_100.jpg', '263_100.jpg', '46_100.jpg', '301_100.jpg', 'r_313_100.jpg', 'r_6_100.jpg', 'r_199_100.jpg', 'r_318_100.jpg', 'r_299_100.jpg', '175_100.jpg']\n"
     ]
    }
   ],
   "source": [
    "print(os.listdir('../input/fruits/fruits-360_dataset/fruits-360/Training/Dates'))"
   ]
  },
  {
   "cell_type": "code",
   "execution_count": 4,
   "metadata": {},
   "outputs": [],
   "source": [
    "train_dir = '../input/fruits/fruits-360_dataset/fruits-360/Training'\n",
    "val_dir = '../input/fruits/fruits-360_dataset/fruits-360/Test'"
   ]
  },
  {
   "cell_type": "code",
   "execution_count": 5,
   "metadata": {},
   "outputs": [
    {
     "name": "stdout",
     "output_type": "stream",
     "text": [
      "Found 60498 images belonging to 120 classes.\n",
      "Found 20622 images belonging to 120 classes.\n"
     ]
    }
   ],
   "source": [
    "train_datagen = ImageDataGenerator(\n",
    "    rescale=1./ 255.,\n",
    "    rotation_range = 20,\n",
    "    height_shift_range = 0.15,\n",
    "    width_shift_range = 0.15,\n",
    "    zoom_range = 0.2,\n",
    "    shear_range = 0.2,\n",
    "    horizontal_flip = True,\n",
    ")\n",
    "\n",
    "val_datagen = ImageDataGenerator(rescale = 1. / 255.)\n",
    "\n",
    "train_generator = train_datagen.flow_from_directory(\n",
    "    train_dir,\n",
    "    target_size = (224, 224),\n",
    "    batch_size = 32,\n",
    "    class_mode = 'categorical'\n",
    ")\n",
    "\n",
    "val_generator = val_datagen.flow_from_directory(\n",
    "    val_dir,\n",
    "    target_size = (224, 224),\n",
    "    batch_size = 32,\n",
    "    class_mode = 'categorical'\n",
    ")"
   ]
  },
  {
   "cell_type": "code",
   "execution_count": 6,
   "metadata": {},
   "outputs": [
    {
     "name": "stderr",
     "output_type": "stream",
     "text": [
      "/opt/conda/lib/python3.6/site-packages/keras_applications/resnet50.py:265: UserWarning: The output shape of `ResNet50(include_top=False)` has been changed since Keras 2.2.0.\n",
      "  warnings.warn('The output shape of `ResNet50(include_top=False)` '\n"
     ]
    },
    {
     "name": "stdout",
     "output_type": "stream",
     "text": [
      "Downloading data from https://github.com/fchollet/deep-learning-models/releases/download/v0.2/resnet50_weights_tf_dim_ordering_tf_kernels_notop.h5\n",
      "94658560/94653016 [==============================] - 8s 0us/step\n"
     ]
    }
   ],
   "source": [
    "base_model = tf.keras.applications.ResNet50(include_top = False,\n",
    "                                           input_shape=(224, 224, 3),\n",
    "                                           weights = 'imagenet')"
   ]
  },
  {
   "cell_type": "code",
   "execution_count": 7,
   "metadata": {},
   "outputs": [],
   "source": [
    "base_model.trianable = False\n",
    "model1 = tf.keras.models.Sequential([\n",
    "    base_model,\n",
    "    tf.keras.layers.GlobalAveragePooling2D(),\n",
    "    tf.keras.layers.Flatten(),\n",
    "    tf.keras.layers.Dropout(0.4),\n",
    "    tf.keras.layers.Dense(512, activation='relu'),\n",
    "    tf.keras.layers.Dense(120, activation='softmax')\n",
    "])"
   ]
  },
  {
   "cell_type": "code",
   "execution_count": 8,
   "metadata": {},
   "outputs": [],
   "source": [
    "model1.compile(loss='categorical_crossentropy', optimizer='adam', metrics = ['accuracy'])"
   ]
  },
  {
   "cell_type": "code",
   "execution_count": 9,
   "metadata": {},
   "outputs": [
    {
     "name": "stdout",
     "output_type": "stream",
     "text": [
      "Epoch 1/10\n",
      "1891/1891 [==============================] - 916s 484ms/step - loss: 0.5002 - acc: 0.8576 - val_loss: 0.3399 - val_acc: 0.8922\n",
      "Epoch 2/10\n",
      "1891/1891 [==============================] - 794s 420ms/step - loss: 0.0997 - acc: 0.9677 - val_loss: 0.1818 - val_acc: 0.9426\n",
      "Epoch 3/10\n",
      "1891/1891 [==============================] - 797s 422ms/step - loss: 0.0793 - acc: 0.9750 - val_loss: 0.8986 - val_acc: 0.8137\n",
      "Epoch 4/10\n",
      "1891/1891 [==============================] - 797s 421ms/step - loss: 0.0557 - acc: 0.9831 - val_loss: 0.2598 - val_acc: 0.9101\n",
      "Epoch 5/10\n",
      "1891/1891 [==============================] - 787s 416ms/step - loss: 0.0498 - acc: 0.9843 - val_loss: 0.5951 - val_acc: 0.8612\n",
      "Epoch 6/10\n",
      "1891/1891 [==============================] - 792s 419ms/step - loss: 0.0425 - acc: 0.9878 - val_loss: 0.1111 - val_acc: 0.9670\n",
      "Epoch 7/10\n",
      "1891/1891 [==============================] - 784s 415ms/step - loss: 0.0308 - acc: 0.9910 - val_loss: 0.0769 - val_acc: 0.9778\n",
      "Epoch 8/10\n",
      "1891/1891 [==============================] - 791s 418ms/step - loss: 0.0321 - acc: 0.9909 - val_loss: 1.0754 - val_acc: 0.8154\n",
      "Epoch 9/10\n",
      "1891/1891 [==============================] - 787s 416ms/step - loss: 0.0317 - acc: 0.9908 - val_loss: 0.1136 - val_acc: 0.9640\n",
      "Epoch 10/10\n",
      "1891/1891 [==============================] - 784s 414ms/step - loss: 0.0226 - acc: 0.9940 - val_loss: 0.2375 - val_acc: 0.9370\n"
     ]
    },
    {
     "data": {
      "text/plain": [
       "<tensorflow.python.keras.callbacks.History at 0x7f86a2bea208>"
      ]
     },
     "execution_count": 9,
     "metadata": {},
     "output_type": "execute_result"
    }
   ],
   "source": [
    "model1.fit_generator(train_generator, epochs=10, validation_data = val_generator)"
   ]
  }
 ],
 "metadata": {
  "kernelspec": {
   "display_name": "Python 3",
   "language": "python",
   "name": "python3"
  },
  "language_info": {
   "codemirror_mode": {
    "name": "ipython",
    "version": 3
   },
   "file_extension": ".py",
   "mimetype": "text/x-python",
   "name": "python",
   "nbconvert_exporter": "python",
   "pygments_lexer": "ipython3",
   "version": "3.6.8"
  }
 },
 "nbformat": 4,
 "nbformat_minor": 1
}
