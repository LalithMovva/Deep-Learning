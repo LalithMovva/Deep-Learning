{
 "cells": [
  {
   "cell_type": "code",
   "execution_count": 1,
   "metadata": {},
   "outputs": [],
   "source": [
    "import numpy as np\n",
    "import tensorflow as tf\n",
    "import matplotlib.patches as mpatches\n",
    "import matplotlib.pyplot as plt\n",
    "%matplotlib inline\n",
    "plt.rcParams['figure.figsize'] = (10,6)"
   ]
  },
  {
   "cell_type": "code",
   "execution_count": 2,
   "metadata": {},
   "outputs": [
    {
     "data": {
      "text/plain": [
       "array([0. , 0.1, 0.2, 0.3, 0.4, 0.5, 0.6, 0.7, 0.8, 0.9, 1. , 1.1, 1.2,\n",
       "       1.3, 1.4, 1.5, 1.6, 1.7, 1.8, 1.9, 2. , 2.1, 2.2, 2.3, 2.4, 2.5,\n",
       "       2.6, 2.7, 2.8, 2.9, 3. , 3.1, 3.2, 3.3, 3.4, 3.5, 3.6, 3.7, 3.8,\n",
       "       3.9, 4. , 4.1, 4.2, 4.3, 4.4, 4.5, 4.6, 4.7, 4.8, 4.9])"
      ]
     },
     "execution_count": 2,
     "metadata": {},
     "output_type": "execute_result"
    }
   ],
   "source": [
    "x = np.arange(0.0, 5.0, 0.1)\n",
    "x"
   ]
  },
  {
   "cell_type": "code",
   "execution_count": 3,
   "metadata": {},
   "outputs": [
    {
     "data": {
      "image/png": "[encoded data removed]",
      "text/plain": [
       "<Figure size 432x288 with 1 Axes>"
      ]
     },
     "metadata": {
      "needs_background": "light"
     },
     "output_type": "display_data"
    }
   ],
   "source": [
    "a = 1\n",
    "b = 0\n",
    "\n",
    "y = a*x + b\n",
    "\n",
    "plt.plot(x,y)\n",
    "plt.ylabel('Dependent Variable')\n",
    "plt.xlabel('Independent Variable')\n",
    "plt.show()"
   ]
  },
  {
   "cell_type": "code",
   "execution_count": 4,
   "metadata": {},
   "outputs": [],
   "source": [
    "x_data = np.random.rand(100).astype(np.float32)"
   ]
  },
  {
   "cell_type": "code",
   "execution_count": 5,
   "metadata": {},
   "outputs": [],
   "source": [
    "y_data = x_data * 3 + 2\n",
    "y_data = np.vectorize(lambda y: y + np.random.normal(loc=0.0, scale=0.1))(y_data)"
   ]
  },
  {
   "cell_type": "code",
   "execution_count": 10,
   "metadata": {},
   "outputs": [
    {
     "data": {
      "text/plain": [
       "(array([0.47103497, 0.53979367, 0.89457583, 0.5366635 , 0.50327116,\n",
       "        0.3433358 , 0.37693042, 0.23875253, 0.22047661, 0.0296247 ,\n",
       "        0.1214613 , 0.22539984, 0.69648385, 0.9220932 , 0.45489877,\n",
       "        0.35056484, 0.13283132, 0.8333657 , 0.90453655, 0.8889045 ,\n",
       "        0.7487811 , 0.11399868, 0.02835709, 0.18326162, 0.9025443 ,\n",
       "        0.00185673, 0.09156045, 0.234133  , 0.898484  , 0.8926307 ,\n",
       "        0.8897891 , 0.916972  , 0.9912045 , 0.45718962, 0.665694  ,\n",
       "        0.9085962 , 0.13535719, 0.66706216, 0.5495636 , 0.6357606 ,\n",
       "        0.42038298, 0.6126274 , 0.552088  , 0.8725364 , 0.03854585,\n",
       "        0.4297066 , 0.8096665 , 0.3929748 , 0.45735264, 0.10406311,\n",
       "        0.19091955, 0.00657504, 0.642644  , 0.0558229 , 0.2274151 ,\n",
       "        0.48162904, 0.1652263 , 0.19808264, 0.93598676, 0.05133304,\n",
       "        0.90048265, 0.45572245, 0.86035854, 0.2604999 , 0.5562007 ,\n",
       "        0.38757357, 0.584923  , 0.28358796, 0.2769918 , 0.8002458 ,\n",
       "        0.53185713, 0.51086515, 0.37428313, 0.7440628 , 0.04611979,\n",
       "        0.29924747, 0.21996202, 0.35295975, 0.51455736, 0.5905686 ,\n",
       "        0.11794242, 0.36684442, 0.3207612 , 0.13704854, 0.51749146,\n",
       "        0.9383357 , 0.9814757 , 0.40109038, 0.17117244, 0.7790123 ,\n",
       "        0.31921083, 0.76367265, 0.5971918 , 0.02926245, 0.8925397 ,\n",
       "        0.10474336, 0.7643478 , 0.2450388 , 0.50341916, 0.12408425],\n",
       "       dtype=float32),\n",
       " array([3.32407066, 3.54144181, 4.48682791, 3.81210682, 3.64874279,\n",
       "        3.17085387, 3.28907048, 2.6932271 , 2.71336062, 2.05677889,\n",
       "        2.37695935, 2.80769972, 4.07759561, 4.67561257, 3.30501219,\n",
       "        3.13446111, 2.42892223, 4.54890247, 4.65524728, 4.59788637,\n",
       "        4.37270579, 2.29877759, 2.15465953, 2.86868031, 4.68240129,\n",
       "        2.15570192, 2.27479051, 2.66034081, 4.65857348, 4.69008392,\n",
       "        4.63891745, 4.89492742, 4.95306774, 3.33290356, 4.04350935,\n",
       "        4.90585411, 2.43273464, 3.97029033, 3.5190699 , 3.95105155,\n",
       "        3.2875699 , 3.78261844, 3.57793553, 4.66299672, 1.95185948,\n",
       "        3.28256405, 4.42902592, 3.30327624, 3.22473112, 2.49120914,\n",
       "        2.51095125, 1.96350754, 3.74471218, 2.22318549, 2.62979803,\n",
       "        3.4321202 , 2.51162577, 2.63693249, 4.740898  , 2.06997855,\n",
       "        4.94610063, 3.45639563, 4.8005308 , 2.6798457 , 3.97326052,\n",
       "        3.00578995, 3.78591441, 2.78770391, 2.82736268, 4.27843636,\n",
       "        3.70265936, 3.39661898, 3.12654091, 4.11105427, 2.16740688,\n",
       "        2.67092915, 2.56620917, 2.95493365, 3.49110956, 3.7594696 ,\n",
       "        2.34972404, 3.12532122, 2.86884517, 2.34457859, 3.44982108,\n",
       "        4.61939663, 4.93936026, 3.13695423, 2.63955636, 4.39586394,\n",
       "        2.97404556, 4.24741425, 3.75008869, 2.11565618, 4.65468012,\n",
       "        2.35119048, 4.23049766, 2.66572249, 3.55402363, 2.41673538]))"
      ]
     },
     "execution_count": 10,
     "metadata": {},
     "output_type": "execute_result"
    }
   ],
   "source": [
    "(x_data,y_data) [0:5]"
   ]
  },
  {
   "cell_type": "code",
   "execution_count": 11,
   "metadata": {},
   "outputs": [],
   "source": [
    "a = tf.Variable(1.0)\n",
    "b = tf.Variable(0.2)\n",
    "y = a * x_data + b"
   ]
  },
  {
   "cell_type": "code",
   "execution_count": 13,
   "metadata": {},
   "outputs": [],
   "source": [
    "loss = tf.reduce_mean(tf.square(y - y_data))"
   ]
  },
  {
   "cell_type": "code",
   "execution_count": 14,
   "metadata": {},
   "outputs": [],
   "source": [
    "train = tf.train.GradientDescentOptimizer(0.5).minimize(loss)"
   ]
  },
  {
   "cell_type": "code",
   "execution_count": 16,
   "metadata": {},
   "outputs": [],
   "source": [
    "init = tf.global_variables_initializer()\n",
    "sess = tf.Session()\n",
    "sess.run(init)"
   ]
  },
  {
   "cell_type": "code",
   "execution_count": 17,
   "metadata": {},
   "outputs": [
    {
     "name": "stdout",
     "output_type": "stream",
     "text": [
      "0 [2.4541297, 2.9370992]\n",
      "10 [2.5958426, 2.202646]\n",
      "20 [2.7933376, 2.1031113]\n",
      "30 [2.888893, 2.0549529]\n",
      "40 [2.935126, 2.0316522]\n",
      "50 [2.9574952, 2.0203786]\n",
      "60 [2.9683182, 2.0149238]\n",
      "70 [2.9735546, 2.0122848]\n",
      "80 [2.976088, 2.0110078]\n",
      "90 [2.9773142, 2.01039]\n"
     ]
    }
   ],
   "source": [
    "train_data = []\n",
    "for step in range(100):\n",
    "    evals = sess.run([train, a, b])[1:]\n",
    "    if step % 10 == 0:\n",
    "        print(step,evals)\n",
    "        train_data.append(evals)"
   ]
  },
  {
   "cell_type": "code",
   "execution_count": 18,
   "metadata": {},
   "outputs": [
    {
     "ename": "AttributeError",
     "evalue": "module 'matplotlib.pyplot' has no attribute 'colors'",
     "output_type": "error",
     "traceback": [
      "\u001b[1;31m---------------------------------------------------------------------------\u001b[0m",
      "\u001b[1;31mAttributeError\u001b[0m                            Traceback (most recent call last)",
      "\u001b[1;32m<ipython-input-18-243076bfdbf7>\u001b[0m in \u001b[0;36m<module>\u001b[1;34m\u001b[0m\n\u001b[1;32m----> 1\u001b[1;33m \u001b[0mconverter\u001b[0m \u001b[1;33m=\u001b[0m \u001b[0mplt\u001b[0m\u001b[1;33m.\u001b[0m\u001b[0mcolors\u001b[0m\u001b[1;33m\u001b[0m\u001b[1;33m\u001b[0m\u001b[0m\n\u001b[0m\u001b[0;32m      2\u001b[0m \u001b[0mcr\u001b[0m\u001b[1;33m,\u001b[0m \u001b[0mcg\u001b[0m\u001b[1;33m,\u001b[0m \u001b[0mcb\u001b[0m \u001b[1;33m=\u001b[0m \u001b[1;33m(\u001b[0m\u001b[1;36m1.0\u001b[0m\u001b[1;33m,\u001b[0m \u001b[1;36m1.0\u001b[0m\u001b[1;33m,\u001b[0m \u001b[1;36m0.0\u001b[0m\u001b[1;33m)\u001b[0m\u001b[1;33m\u001b[0m\u001b[1;33m\u001b[0m\u001b[0m\n\u001b[0;32m      3\u001b[0m \u001b[1;32mfor\u001b[0m \u001b[0mf\u001b[0m \u001b[1;32min\u001b[0m \u001b[0mtrain_data\u001b[0m\u001b[1;33m:\u001b[0m\u001b[1;33m\u001b[0m\u001b[1;33m\u001b[0m\u001b[0m\n\u001b[0;32m      4\u001b[0m     \u001b[0mcb\u001b[0m \u001b[1;33m+=\u001b[0m \u001b[1;36m1.0\u001b[0m\u001b[1;33m/\u001b[0m\u001b[0mlen\u001b[0m\u001b[1;33m(\u001b[0m\u001b[0mtrain_data\u001b[0m\u001b[1;33m)\u001b[0m\u001b[1;33m\u001b[0m\u001b[1;33m\u001b[0m\u001b[0m\n\u001b[0;32m      5\u001b[0m     \u001b[0mcg\u001b[0m \u001b[1;33m-=\u001b[0m \u001b[1;36m1.0\u001b[0m\u001b[1;33m/\u001b[0m\u001b[0mlen\u001b[0m\u001b[1;33m(\u001b[0m\u001b[0mtrain_data\u001b[0m\u001b[1;33m)\u001b[0m\u001b[1;33m\u001b[0m\u001b[1;33m\u001b[0m\u001b[0m\n",
      "\u001b[1;31mAttributeError\u001b[0m: module 'matplotlib.pyplot' has no attribute 'colors'"
     ]
    }
   ],
   "source": [
    "converter = plt.colors\n",
    "cr, cg, cb = (1.0, 1.0, 0.0)\n",
    "for f in train_data:\n",
    "    cb += 1.0/len(train_data)\n",
    "    cg -= 1.0/len(train_data)\n",
    "    \n",
    "    if cb > 1.0:cb = 1.0\n",
    "    if cg < 0.0:cg = 0.0\n",
    "    [a, b] = f\n",
    "    f_y = np.vectorize(lambda x: a*x + b)(x_data)\n",
    "    line = plt.plot(x_data, f_y)\n",
    "    plt.setp(line, color=(cr,cg,cb))\n",
    "    \n",
    "plt.plot(x_data, y_data, 'ro')\n",
    "\n",
    "green_line = mpatches.Patch(color='red', label='Data points')\n",
    "\n",
    "plt.legend(handles = [green_line])\n",
    "\n",
    "plt.show()"
   ]
  },
  {
   "cell_type": "code",
   "execution_count": null,
   "metadata": {},
   "outputs": [],
   "source": []
  }
 ],
 "metadata": {
  "kernelspec": {
   "display_name": "Python 3",
   "language": "python",
   "name": "python3"
  },
  "language_info": {
   "codemirror_mode": {
    "name": "ipython",
    "version": 3
   },
   "file_extension": ".py",
   "mimetype": "text/x-python",
   "name": "python",
   "nbconvert_exporter": "python",
   "pygments_lexer": "ipython3",
   "version": "3.6.8"
  }
 },
 "nbformat": 4,
 "nbformat_minor": 2
}
