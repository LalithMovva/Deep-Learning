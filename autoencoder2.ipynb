{
 "cells": [
  {
   "cell_type": "code",
   "execution_count": 1,
   "metadata": {},
   "outputs": [
    {
     "name": "stderr",
     "output_type": "stream",
     "text": [
      "Using TensorFlow backend.\n"
     ]
    }
   ],
   "source": [
    "from keras.layers import Input, Dense\n",
    "from keras.models import Model\n",
    "\n",
    "# this is the size of our encoded representations\n",
    "encoding_dim = 32  # 32 floats -> compression of factor 24.5, assuming the input is 784 floats\n",
    "\n",
    "# this is our input placeholder\n",
    "input_img = Input(shape=(784,))\n",
    "# \"encoded\" is the encoded representation of the input\n",
    "encoded = Dense(encoding_dim, activation='relu')(input_img)\n",
    "# \"decoded\" is the lossy reconstruction of the input\n",
    "decoded = Dense(784, activation='sigmoid')(encoded)\n",
    "\n",
    "# this model maps an input to its reconstruction\n",
    "autoencoder = Model(input_img, decoded)"
   ]
  },
  {
   "cell_type": "code",
   "execution_count": 2,
   "metadata": {},
   "outputs": [],
   "source": [
    "# this model maps an input to its encoded representation\n",
    "encoder = Model(input_img, encoded)"
   ]
  },
  {
   "cell_type": "code",
   "execution_count": 3,
   "metadata": {},
   "outputs": [],
   "source": [
    "# create a placeholder for an encoded (32-dimensional) input\n",
    "encoded_input = Input(shape=(encoding_dim,))\n",
    "# retrieve the last layer of the autoencoder model\n",
    "decoder_layer = autoencoder.layers[-1]\n",
    "# create the decoder model\n",
    "decoder = Model(encoded_input, decoder_layer(encoded_input))"
   ]
  },
  {
   "cell_type": "code",
   "execution_count": 4,
   "metadata": {},
   "outputs": [],
   "source": [
    "autoencoder.compile(optimizer='adadelta', loss='binary_crossentropy')"
   ]
  },
  {
   "cell_type": "code",
   "execution_count": 5,
   "metadata": {},
   "outputs": [],
   "source": [
    "from keras.datasets import mnist\n",
    "import numpy as np\n",
    "(x_train, _), (x_test, _) = mnist.load_data()"
   ]
  },
  {
   "cell_type": "code",
   "execution_count": 6,
   "metadata": {},
   "outputs": [
    {
     "name": "stdout",
     "output_type": "stream",
     "text": [
      "(60000, 784)\n",
      "(10000, 784)\n"
     ]
    }
   ],
   "source": [
    "x_train = x_train.astype('float32') / 255.\n",
    "x_test = x_test.astype('float32') / 255.\n",
    "x_train = x_train.reshape((len(x_train), np.prod(x_train.shape[1:])))\n",
    "x_test = x_test.reshape((len(x_test), np.prod(x_test.shape[1:])))\n",
    "print (x_train.shape)\n",
    "print (x_test.shape)"
   ]
  },
  {
   "cell_type": "code",
   "execution_count": 7,
   "metadata": {},
   "outputs": [
    {
     "name": "stdout",
     "output_type": "stream",
     "text": [
      "Train on 60000 samples, validate on 10000 samples\n",
      "Epoch 1/50\n",
      "60000/60000 [==============================] - 10s 164us/step - loss: 0.3634 - val_loss: 0.2720\n",
      "Epoch 2/50\n",
      "60000/60000 [==============================] - 5s 77us/step - loss: 0.2657 - val_loss: 0.2562\n",
      "Epoch 3/50\n",
      "60000/60000 [==============================] - 4s 75us/step - loss: 0.2464 - val_loss: 0.2342\n",
      "Epoch 4/50\n",
      "60000/60000 [==============================] - 5s 76us/step - loss: 0.2255 - val_loss: 0.2150\n",
      "Epoch 5/50\n",
      "60000/60000 [==============================] - 5s 79us/step - loss: 0.2097 - val_loss: 0.2022\n",
      "Epoch 6/50\n",
      "60000/60000 [==============================] - 5s 83us/step - loss: 0.1989 - val_loss: 0.1929\n",
      "Epoch 7/50\n",
      "60000/60000 [==============================] - 5s 84us/step - loss: 0.1905 - val_loss: 0.1853\n",
      "Epoch 8/50\n",
      "60000/60000 [==============================] - 5s 84us/step - loss: 0.1834 - val_loss: 0.1786\n",
      "Epoch 9/50\n",
      "60000/60000 [==============================] - 5s 76us/step - loss: 0.1770 - val_loss: 0.1727\n",
      "Epoch 10/50\n",
      "60000/60000 [==============================] - 4s 70us/step - loss: 0.1713 - val_loss: 0.1674\n",
      "Epoch 11/50\n",
      "60000/60000 [==============================] - 5s 82us/step - loss: 0.1661 - val_loss: 0.1624\n",
      "Epoch 12/50\n",
      "60000/60000 [==============================] - 5s 81us/step - loss: 0.1615 - val_loss: 0.1580\n",
      "Epoch 13/50\n",
      "60000/60000 [==============================] - 5s 76us/step - loss: 0.1574 - val_loss: 0.1541\n",
      "Epoch 14/50\n",
      "60000/60000 [==============================] - 5s 78us/step - loss: 0.1536 - val_loss: 0.1504\n",
      "Epoch 15/50\n",
      "60000/60000 [==============================] - 4s 71us/step - loss: 0.1501 - val_loss: 0.1471\n",
      "Epoch 16/50\n",
      "60000/60000 [==============================] - 4s 66us/step - loss: 0.1468 - val_loss: 0.1439\n",
      "Epoch 17/50\n",
      "60000/60000 [==============================] - 4s 67us/step - loss: 0.1439 - val_loss: 0.1410\n",
      "Epoch 18/50\n",
      "60000/60000 [==============================] - 4s 64us/step - loss: 0.1411 - val_loss: 0.1384\n",
      "Epoch 19/50\n",
      "60000/60000 [==============================] - 4s 72us/step - loss: 0.1385 - val_loss: 0.1359\n",
      "Epoch 20/50\n",
      "60000/60000 [==============================] - 5s 86us/step - loss: 0.1361 - val_loss: 0.1334\n",
      "Epoch 21/50\n",
      "60000/60000 [==============================] - 5s 77us/step - loss: 0.1337 - val_loss: 0.1311\n",
      "Epoch 22/50\n",
      "60000/60000 [==============================] - 5s 89us/step - loss: 0.1315 - val_loss: 0.1290\n",
      "Epoch 23/50\n",
      "60000/60000 [==============================] - 5s 84us/step - loss: 0.1294 - val_loss: 0.1268\n",
      "Epoch 24/50\n",
      "60000/60000 [==============================] - 4s 75us/step - loss: 0.1274 - val_loss: 0.1249\n",
      "Epoch 25/50\n",
      "60000/60000 [==============================] - 4s 71us/step - loss: 0.1254 - val_loss: 0.1229\n",
      "Epoch 26/50\n",
      "60000/60000 [==============================] - 4s 67us/step - loss: 0.1236 - val_loss: 0.1210\n",
      "Epoch 27/50\n",
      "60000/60000 [==============================] - 4s 68us/step - loss: 0.1218 - val_loss: 0.1194\n",
      "Epoch 28/50\n",
      "60000/60000 [==============================] - 5s 76us/step - loss: 0.1201 - val_loss: 0.1177\n",
      "Epoch 29/50\n",
      "60000/60000 [==============================] - 5s 77us/step - loss: 0.1186 - val_loss: 0.1162\n",
      "Epoch 30/50\n",
      "60000/60000 [==============================] - 5s 83us/step - loss: 0.1171 - val_loss: 0.1148\n",
      "Epoch 31/50\n",
      "60000/60000 [==============================] - 5s 84us/step - loss: 0.1157 - val_loss: 0.1134\n",
      "Epoch 32/50\n",
      "60000/60000 [==============================] - 5s 89us/step - loss: 0.1145 - val_loss: 0.1123\n",
      "Epoch 33/50\n",
      "60000/60000 [==============================] - 5s 89us/step - loss: 0.1133 - val_loss: 0.1111\n",
      "Epoch 34/50\n",
      "60000/60000 [==============================] - 6s 95us/step - loss: 0.1123 - val_loss: 0.1101\n",
      "Epoch 35/50\n",
      "60000/60000 [==============================] - 6s 105us/step - loss: 0.1113 - val_loss: 0.1092\n",
      "Epoch 36/50\n",
      "60000/60000 [==============================] - 5s 86us/step - loss: 0.1105 - val_loss: 0.1084\n",
      "Epoch 37/50\n",
      "60000/60000 [==============================] - 5s 79us/step - loss: 0.1096 - val_loss: 0.1076\n",
      "Epoch 38/50\n",
      "60000/60000 [==============================] - 5s 84us/step - loss: 0.1089 - val_loss: 0.1069\n",
      "Epoch 39/50\n",
      "60000/60000 [==============================] - 5s 79us/step - loss: 0.1082 - val_loss: 0.1062\n",
      "Epoch 40/50\n",
      "60000/60000 [==============================] - 4s 74us/step - loss: 0.1076 - val_loss: 0.1056\n",
      "Epoch 41/50\n",
      "60000/60000 [==============================] - 4s 71us/step - loss: 0.1070 - val_loss: 0.1051\n",
      "Epoch 42/50\n",
      "60000/60000 [==============================] - 5s 81us/step - loss: 0.1065 - val_loss: 0.1046\n",
      "Epoch 43/50\n",
      "60000/60000 [==============================] - 5s 82us/step - loss: 0.1060 - val_loss: 0.1041\n",
      "Epoch 44/50\n",
      "60000/60000 [==============================] - 5s 77us/step - loss: 0.1055 - val_loss: 0.1037\n",
      "Epoch 45/50\n",
      "60000/60000 [==============================] - 5s 80us/step - loss: 0.1051 - val_loss: 0.1033\n",
      "Epoch 46/50\n",
      "60000/60000 [==============================] - 5s 79us/step - loss: 0.1047 - val_loss: 0.1029\n",
      "Epoch 47/50\n",
      "60000/60000 [==============================] - 4s 75us/step - loss: 0.1043 - val_loss: 0.1025\n",
      "Epoch 48/50\n",
      "60000/60000 [==============================] - 5s 79us/step - loss: 0.1040 - val_loss: 0.1022\n",
      "Epoch 49/50\n",
      "60000/60000 [==============================] - 5s 80us/step - loss: 0.1036 - val_loss: 0.1018\n",
      "Epoch 50/50\n",
      "60000/60000 [==============================] - 5s 88us/step - loss: 0.1033 - val_loss: 0.1015A: 0s - loss: 0.\n"
     ]
    },
    {
     "data": {
      "text/plain": [
       "<keras.callbacks.History at 0x1dff1906dd8>"
      ]
     },
     "execution_count": 7,
     "metadata": {},
     "output_type": "execute_result"
    }
   ],
   "source": [
    "autoencoder.fit(x_train, x_train,\n",
    "                epochs=50,\n",
    "                batch_size=256,\n",
    "                shuffle=True,\n",
    "                validation_data=(x_test, x_test))"
   ]
  },
  {
   "cell_type": "code",
   "execution_count": 8,
   "metadata": {},
   "outputs": [],
   "source": [
    "# encode and decode some digits\n",
    "# note that we take them from the *test* set\n",
    "encoded_imgs = encoder.predict(x_test)\n",
    "decoded_imgs = decoder.predict(encoded_imgs)"
   ]
  },
  {
   "cell_type": "code",
   "execution_count": 9,
   "metadata": {},
   "outputs": [
    {
     "data": {
      "image/png": "[encoded data removed]",
      "text/plain": [
       "<Figure size 1440x288 with 20 Axes>"
      ]
     },
     "metadata": {
      "needs_background": "light"
     },
     "output_type": "display_data"
    }
   ],
   "source": [
    "# use Matplotlib (don't ask)\n",
    "import matplotlib.pyplot as plt\n",
    "%matplotlib inline\n",
    "\n",
    "n = 10  # how many digits we will display\n",
    "plt.figure(figsize=(20, 4))\n",
    "for i in range(n):\n",
    "    # display original\n",
    "    ax = plt.subplot(2, n, i + 1)\n",
    "    plt.imshow(x_test[i].reshape(28, 28))\n",
    "    plt.gray()\n",
    "    ax.get_xaxis().set_visible(False)\n",
    "    ax.get_yaxis().set_visible(False)\n",
    "\n",
    "    # display reconstruction\n",
    "    ax = plt.subplot(2, n, i + 1 + n)\n",
    "    plt.imshow(decoded_imgs[i].reshape(28, 28))\n",
    "    plt.gray()\n",
    "    ax.get_xaxis().set_visible(False)\n",
    "    ax.get_yaxis().set_visible(False)\n",
    "plt.show()"
   ]
  },
  {
   "cell_type": "code",
   "execution_count": 10,
   "metadata": {},
   "outputs": [],
   "source": [
    "from keras import regularizers\n",
    "\n",
    "encoding_dim = 32\n",
    "\n",
    "input_img = Input(shape=(784,))\n",
    "# add a Dense layer with a L1 activity regularizer\n",
    "encoded = Dense(encoding_dim, activation='relu',\n",
    "                activity_regularizer=regularizers.l1(10e-5))(input_img)\n",
    "decoded = Dense(784, activation='sigmoid')(encoded)\n",
    "\n",
    "autoencoder = Model(input_img, decoded)"
   ]
  },
  {
   "cell_type": "code",
   "execution_count": 11,
   "metadata": {},
   "outputs": [],
   "source": [
    "input_img = Input(shape=(784,))\n",
    "encoded = Dense(128, activation='relu')(input_img)\n",
    "encoded = Dense(64, activation='relu')(encoded)\n",
    "encoded = Dense(32, activation='relu')(encoded)\n",
    "\n",
    "decoded = Dense(64, activation='relu')(encoded)\n",
    "decoded = Dense(128, activation='relu')(decoded)\n",
    "decoded = Dense(784, activation='sigmoid')(decoded)"
   ]
  },
  {
   "cell_type": "code",
   "execution_count": null,
   "metadata": {},
   "outputs": [
    {
     "name": "stdout",
     "output_type": "stream",
     "text": [
      "Train on 60000 samples, validate on 10000 samples\n",
      "Epoch 1/100\n",
      "60000/60000 [==============================] - 8s 140us/step - loss: 0.3219 - val_loss: 0.2632ETA: 0s - loss: 0.3\n",
      "Epoch 2/100\n",
      "60000/60000 [==============================] - 8s 131us/step - loss: 0.2546 - val_loss: 0.2439\n",
      "Epoch 3/100\n",
      "60000/60000 [==============================] - 7s 113us/step - loss: 0.2360 - val_loss: 0.2268\n",
      "Epoch 4/100\n",
      "60000/60000 [==============================] - 8s 126us/step - loss: 0.2190 - val_loss: 0.2104\n",
      "Epoch 5/100\n",
      "60000/60000 [==============================] - 7s 118us/step - loss: 0.2042 - val_loss: 0.1966\n",
      "Epoch 6/100\n",
      "60000/60000 [==============================] - 8s 140us/step - loss: 0.1926 - val_loss: 0.1906\n",
      "Epoch 7/100\n",
      "60000/60000 [==============================] - 8s 140us/step - loss: 0.1858 - val_loss: 0.1829\n",
      "Epoch 8/100\n",
      "60000/60000 [==============================] - 7s 114us/step - loss: 0.1811 - val_loss: 0.1779\n",
      "Epoch 9/100\n",
      "60000/60000 [==============================] - 6s 106us/step - loss: 0.1764 - val_loss: 0.1714\n",
      "Epoch 10/100\n",
      "60000/60000 [==============================] - 7s 110us/step - loss: 0.1713 - val_loss: 0.1670\n",
      "Epoch 11/100\n",
      "60000/60000 [==============================] - 7s 114us/step - loss: 0.1659 - val_loss: 0.1626\n",
      "Epoch 12/100\n",
      "60000/60000 [==============================] - 7s 119us/step - loss: 0.1607 - val_loss: 0.1560\n",
      "Epoch 13/100\n",
      "60000/60000 [==============================] - 8s 131us/step - loss: 0.1566 - val_loss: 0.1525\n",
      "Epoch 14/100\n",
      "60000/60000 [==============================] - 8s 138us/step - loss: 0.1532 - val_loss: 0.1515\n",
      "Epoch 15/100\n",
      "60000/60000 [==============================] - 8s 128us/step - loss: 0.1500 - val_loss: 0.1465\n",
      "Epoch 16/100\n",
      "60000/60000 [==============================] - 8s 135us/step - loss: 0.1472 - val_loss: 0.1439\n",
      "Epoch 17/100\n",
      "60000/60000 [==============================] - 7s 124us/step - loss: 0.1447 - val_loss: 0.1434\n",
      "Epoch 18/100\n",
      "60000/60000 [==============================] - 7s 123us/step - loss: 0.1424 - val_loss: 0.1399\n",
      "Epoch 19/100\n",
      "60000/60000 [==============================] - 8s 127us/step - loss: 0.1404 - val_loss: 0.1405\n",
      "Epoch 20/100\n",
      "60000/60000 [==============================] - 7s 119us/step - loss: 0.1387 - val_loss: 0.1356\n",
      "Epoch 21/100\n",
      "60000/60000 [==============================] - 8s 131us/step - loss: 0.1374 - val_loss: 0.1359\n",
      "Epoch 22/100\n",
      "60000/60000 [==============================] - 7s 119us/step - loss: 0.1361 - val_loss: 0.1333\n",
      "Epoch 23/100\n",
      "60000/60000 [==============================] - 6s 105us/step - loss: 0.1346 - val_loss: 0.1332\n",
      "Epoch 24/100\n",
      "60000/60000 [==============================] - 7s 114us/step - loss: 0.1335 - val_loss: 0.1336\n",
      "Epoch 25/100\n",
      "60000/60000 [==============================] - 7s 109us/step - loss: 0.1321 - val_loss: 0.1294\n",
      "Epoch 26/100\n",
      "60000/60000 [==============================] - 8s 130us/step - loss: 0.1307 - val_loss: 0.1288\n",
      "Epoch 27/100\n",
      "60000/60000 [==============================] - 7s 115us/step - loss: 0.1292 - val_loss: 0.1277\n",
      "Epoch 28/100\n",
      "60000/60000 [==============================] - 7s 113us/step - loss: 0.1279 - val_loss: 0.1249\n",
      "Epoch 29/100\n",
      "60000/60000 [==============================] - 7s 115us/step - loss: 0.1268 - val_loss: 0.1251\n",
      "Epoch 30/100\n",
      "60000/60000 [==============================] - 7s 119us/step - loss: 0.1257 - val_loss: 0.1233\n",
      "Epoch 31/100\n",
      " 8448/60000 [===>..........................] - ETA: 5s - loss: 0.1252- ETA: 5s - loss: 0.125"
     ]
    }
   ],
   "source": [
    "autoencoder = Model(input_img, decoded)\n",
    "autoencoder.compile(optimizer='adadelta', loss='binary_crossentropy')\n",
    "\n",
    "autoencoder.fit(x_train, x_train,\n",
    "                epochs=100,\n",
    "                batch_size=256,\n",
    "                shuffle=True,\n",
    "                validation_data=(x_test, x_test))"
   ]
  },
  {
   "cell_type": "code",
   "execution_count": null,
   "metadata": {},
   "outputs": [],
   "source": []
  },
  {
   "cell_type": "code",
   "execution_count": null,
   "metadata": {},
   "outputs": [],
   "source": []
  }
 ],
 "metadata": {
  "kernelspec": {
   "display_name": "Python 3",
   "language": "python",
   "name": "python3"
  },
  "language_info": {
   "codemirror_mode": {
    "name": "ipython",
    "version": 3
   },
   "file_extension": ".py",
   "mimetype": "text/x-python",
   "name": "python",
   "nbconvert_exporter": "python",
   "pygments_lexer": "ipython3",
   "version": "3.6.8"
  }
 },
 "nbformat": 4,
 "nbformat_minor": 2
}
