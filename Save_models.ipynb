{
  "nbformat": 4,
  "nbformat_minor": 0,
  "metadata": {
    "colab": {
      "name": "Save_models.ipynb",
      "provenance": [],
      "collapsed_sections": []
    },
    "kernelspec": {
      "name": "python3",
      "display_name": "Python 3"
    },
    "accelerator": "GPU"
  },
  "cells": [
    {
      "cell_type": "code",
      "metadata": {
        "id": "jDD5e72R69ub",
        "colab_type": "code",
        "colab": {}
      },
      "source": [
        "import tensorflow as tf"
      ],
      "execution_count": 0,
      "outputs": []
    },
    {
      "cell_type": "code",
      "metadata": {
        "id": "LsKkn3b_8Aar",
        "colab_type": "code",
        "colab": {}
      },
      "source": [
        "(train_data, train_labels), (test_data, test_labels) = tf.keras.datasets.mnist.load_data()\n",
        "\n",
        "train_data = train_data.reshape(60000, 28, 28, 1)\n",
        "train_data = train_data / 255.\n",
        "test_data = test_data.reshape(10000, 28, 28, 1)\n",
        "test_data = test_data / 255.\n"
      ],
      "execution_count": 0,
      "outputs": []
    },
    {
      "cell_type": "code",
      "metadata": {
        "id": "5GCj8w-L9B21",
        "colab_type": "code",
        "colab": {
          "base_uri": "https://localhost:8080/",
          "height": 731
        },
        "outputId": "9471533f-e51b-4a87-92d4-61e7950cfbfd"
      },
      "source": [
        "model1 = tf.keras.models.Sequential([\n",
        "    tf.keras.layers.Flatten(input_shape = (28,28,1)),\n",
        "    tf.keras.layers.Dense(128, activation='relu'),\n",
        "    tf.keras.layers.Dense(64, activation='relu'),\n",
        "    tf.keras.layers.Dense(10, activation='softmax')\n",
        "])\n",
        "\n",
        "model1.compile(loss = 'sparse_categorical_crossentropy', optimizer = 'adam', metrics=['accuracy'])\n",
        "\n",
        "model1.fit(train_data, train_labels, epochs = 20)"
      ],
      "execution_count": 12,
      "outputs": [
        {
          "output_type": "stream",
          "text": [
            "Train on 60000 samples\n",
            "Epoch 1/20\n",
            "60000/60000 [==============================] - 5s 90us/sample - loss: 0.2378 - acc: 0.9306\n",
            "Epoch 2/20\n",
            "60000/60000 [==============================] - 4s 74us/sample - loss: 0.1012 - acc: 0.9689\n",
            "Epoch 3/20\n",
            "60000/60000 [==============================] - 4s 73us/sample - loss: 0.0710 - acc: 0.9779\n",
            "Epoch 4/20\n",
            "60000/60000 [==============================] - 5s 87us/sample - loss: 0.0533 - acc: 0.9828\n",
            "Epoch 5/20\n",
            "60000/60000 [==============================] - 6s 97us/sample - loss: 0.0426 - acc: 0.9859\n",
            "Epoch 6/20\n",
            "60000/60000 [==============================] - 6s 95us/sample - loss: 0.0350 - acc: 0.9882\n",
            "Epoch 7/20\n",
            "60000/60000 [==============================] - 5s 90us/sample - loss: 0.0291 - acc: 0.9906\n",
            "Epoch 8/20\n",
            "60000/60000 [==============================] - 5s 83us/sample - loss: 0.0255 - acc: 0.9915\n",
            "Epoch 9/20\n",
            "60000/60000 [==============================] - 5s 79us/sample - loss: 0.0209 - acc: 0.9930\n",
            "Epoch 10/20\n",
            "60000/60000 [==============================] - 5s 89us/sample - loss: 0.0179 - acc: 0.9937\n",
            "Epoch 11/20\n",
            "60000/60000 [==============================] - 5s 86us/sample - loss: 0.0164 - acc: 0.9942\n",
            "Epoch 12/20\n",
            "60000/60000 [==============================] - 5s 87us/sample - loss: 0.0181 - acc: 0.9936\n",
            "Epoch 13/20\n",
            "60000/60000 [==============================] - 4s 74us/sample - loss: 0.0132 - acc: 0.9954\n",
            "Epoch 14/20\n",
            "60000/60000 [==============================] - 5s 81us/sample - loss: 0.0129 - acc: 0.9959\n",
            "Epoch 15/20\n",
            "60000/60000 [==============================] - 5s 80us/sample - loss: 0.0121 - acc: 0.9962\n",
            "Epoch 16/20\n",
            "60000/60000 [==============================] - 5s 89us/sample - loss: 0.0121 - acc: 0.9962\n",
            "Epoch 17/20\n",
            "60000/60000 [==============================] - 6s 94us/sample - loss: 0.0121 - acc: 0.9959\n",
            "Epoch 18/20\n",
            "60000/60000 [==============================] - 5s 88us/sample - loss: 0.0112 - acc: 0.9963\n",
            "Epoch 19/20\n",
            "60000/60000 [==============================] - 5s 81us/sample - loss: 0.0102 - acc: 0.9965\n",
            "Epoch 20/20\n",
            "60000/60000 [==============================] - 5s 87us/sample - loss: 0.0120 - acc: 0.9963\n"
          ],
          "name": "stdout"
        },
        {
          "output_type": "execute_result",
          "data": {
            "text/plain": [
              "<tensorflow.python.keras.callbacks.History at 0x7efea55e2240>"
            ]
          },
          "metadata": {
            "tags": []
          },
          "execution_count": 12
        }
      ]
    },
    {
      "cell_type": "code",
      "metadata": {
        "id": "lxckrnKP-DOB",
        "colab_type": "code",
        "colab": {
          "base_uri": "https://localhost:8080/",
          "height": 34
        },
        "outputId": "3521cd76-ef10-4310-d1cc-527db5228cc1"
      },
      "source": [
        "test_loss, test_accuracy = model1.evaluate(test_data, test_labels)"
      ],
      "execution_count": 13,
      "outputs": [
        {
          "output_type": "stream",
          "text": [
            "10000/10000 [==============================] - 1s 67us/sample - loss: 0.1325 - acc: 0.9767\n"
          ],
          "name": "stdout"
        }
      ]
    },
    {
      "cell_type": "code",
      "metadata": {
        "id": "zM4s1z3D_gHL",
        "colab_type": "code",
        "colab": {
          "base_uri": "https://localhost:8080/",
          "height": 34
        },
        "outputId": "2670e503-63f8-4d97-9146-2d5aff3e02d1"
      },
      "source": [
        "test_loss"
      ],
      "execution_count": 14,
      "outputs": [
        {
          "output_type": "execute_result",
          "data": {
            "text/plain": [
              "0.13250500560752757"
            ]
          },
          "metadata": {
            "tags": []
          },
          "execution_count": 14
        }
      ]
    },
    {
      "cell_type": "code",
      "metadata": {
        "id": "mJPuitzX_lxL",
        "colab_type": "code",
        "colab": {
          "base_uri": "https://localhost:8080/",
          "height": 34
        },
        "outputId": "5e92c3a2-ccff-4f3f-8a41-c1e83b304172"
      },
      "source": [
        "test_accuracy"
      ],
      "execution_count": 15,
      "outputs": [
        {
          "output_type": "execute_result",
          "data": {
            "text/plain": [
              "0.9767"
            ]
          },
          "metadata": {
            "tags": []
          },
          "execution_count": 15
        }
      ]
    },
    {
      "cell_type": "code",
      "metadata": {
        "id": "Cwy7-_r9_oDg",
        "colab_type": "code",
        "colab": {}
      },
      "source": [
        "model1.save('mnist_model.h5')"
      ],
      "execution_count": 0,
      "outputs": []
    },
    {
      "cell_type": "code",
      "metadata": {
        "id": "pLrYQcgg_z9J",
        "colab_type": "code",
        "colab": {
          "base_uri": "https://localhost:8080/",
          "height": 139
        },
        "outputId": "7dc62d82-ca26-4506-819b-9ba386fac9fa"
      },
      "source": [
        "model2 = tf.keras.models.load_model('mnist_model.h5')"
      ],
      "execution_count": 17,
      "outputs": [
        {
          "output_type": "stream",
          "text": [
            "WARNING:tensorflow:From /usr/local/lib/python3.6/dist-packages/tensorflow_core/python/ops/init_ops.py:97: calling GlorotUniform.__init__ (from tensorflow.python.ops.init_ops) with dtype is deprecated and will be removed in a future version.\n",
            "Instructions for updating:\n",
            "Call initializer instance with the dtype argument instead of passing it to the constructor\n",
            "WARNING:tensorflow:From /usr/local/lib/python3.6/dist-packages/tensorflow_core/python/ops/init_ops.py:97: calling Zeros.__init__ (from tensorflow.python.ops.init_ops) with dtype is deprecated and will be removed in a future version.\n",
            "Instructions for updating:\n",
            "Call initializer instance with the dtype argument instead of passing it to the constructor\n"
          ],
          "name": "stdout"
        }
      ]
    },
    {
      "cell_type": "code",
      "metadata": {
        "id": "isr-lD1DNZA8",
        "colab_type": "code",
        "colab": {
          "base_uri": "https://localhost:8080/",
          "height": 34
        },
        "outputId": "0f187405-8bff-4c5f-e90b-da3d6f0b2f79"
      },
      "source": [
        "test_loss1, test_accuracy1 = model2.evaluate(test_data, test_labels)"
      ],
      "execution_count": 18,
      "outputs": [
        {
          "output_type": "stream",
          "text": [
            "10000/10000 [==============================] - 1s 71us/sample - loss: 0.1325 - acc: 0.9767\n"
          ],
          "name": "stdout"
        }
      ]
    },
    {
      "cell_type": "code",
      "metadata": {
        "id": "t0UjyNifNjHR",
        "colab_type": "code",
        "colab": {}
      },
      "source": [
        ""
      ],
      "execution_count": 0,
      "outputs": []
    }
  ]
}