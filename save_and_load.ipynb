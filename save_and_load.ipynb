{
 "cells": [
  {
   "cell_type": "markdown",
   "metadata": {
    "colab_type": "text",
    "id": "1l8bWGmIJuQa"
   },
   "source": [
    "##### Copyright 2019 The TensorFlow Authors.\n",
    "\n"
   ]
  },
  {
   "cell_type": "code",
   "execution_count": 1,
   "metadata": {
    "cellView": "form",
    "colab": {},
    "colab_type": "code",
    "id": "CPSnXS88KFEo"
   },
   "outputs": [],
   "source": [
    "#@title Licensed under the Apache License, Version 2.0 (the \"License\");\n",
    "# you may not use this file except in compliance with the License.\n",
    "# You may obtain a copy of the License at\n",
    "#\n",
    "# https://www.apache.org/licenses/LICENSE-2.0\n",
    "#\n",
    "# Unless required by applicable law or agreed to in writing, software\n",
    "# distributed under the License is distributed on an \"AS IS\" BASIS,\n",
    "# WITHOUT WARRANTIES OR CONDITIONS OF ANY KIND, either express or implied.\n",
    "# See the License for the specific language governing permissions and\n",
    "# limitations under the License."
   ]
  },
  {
   "cell_type": "markdown",
   "metadata": {
    "colab_type": "text",
    "id": "89xNCIO5hiCj"
   },
   "source": [
    "# Save and load a model using `tf.distribute.Strategy`"
   ]
  },
  {
   "cell_type": "markdown",
   "metadata": {
    "colab_type": "text",
    "id": "9Ejs4QVxIdAm"
   },
   "source": [
    "<table class=\"tfo-notebook-buttons\" align=\"left\">\n",
    "  <td>\n",
    "    <a target=\"_blank\" href=\"https://www.tensorflow.org/beta/tutorials/distribute/save_and_load\"><img src=\"https://www.tensorflow.org/images/tf_logo_32px.png\" />View on TensorFlow.org</a>\n",
    "  </td>\n",
    "  <td>\n",
    "    <a target=\"_blank\" href=\"https://colab.research.google.com/github/tensorflow/docs/blob/master/site/en/r2/tutorials/distribute/save_and_load.ipynb\"><img src=\"https://www.tensorflow.org/images/colab_logo_32px.png\" />Run in Google Colab</a>\n",
    "  </td>\n",
    "  <td>\n",
    "    <a target=\"_blank\" href=\"https://github.com/tensorflow/docs/blob/master/site/en/r2/tutorials/distribute/save_and_load.ipynb\"><img src=\"https://www.tensorflow.org/images/GitHub-Mark-32px.png\" />View source on GitHub</a>\n",
    "  </td>\n",
    "  <td>\n",
    "    <a href=\"https://storage.googleapis.com/tensorflow_docs/docs/site/en/r2/tutorials/distribute/save_and_load.ipynb\"><img src=\"https://www.tensorflow.org/images/download_logo_32px.png\" />Download notebook</a>\n",
    "  </td>\n",
    "\n",
    "</table>"
   ]
  },
  {
   "cell_type": "markdown",
   "metadata": {
    "colab_type": "text",
    "id": "A0lG6qgThxAS"
   },
   "source": [
    "## Overview\n",
    "\n",
    "It's common to save and load a model during training. There are two sets of APIs for saving and loading a keras model: a high-level API, and a low-level API. This tutorial demonstrates how you can use the SavedModel APIs when using `tf.distribute.Strategy`. To learn about SavedModel and serialization in general, please read the [saved model guide](../../guide/saved_model.ipynb), and the [Keras model serialization guide](../../guide/keras/saving_and_serializing.ipynb). Let's start with a simple example: "
   ]
  },
  {
   "cell_type": "markdown",
   "metadata": {
    "colab_type": "text",
    "id": "FITHltVKQ4eZ"
   },
   "source": [
    "Import dependencies:"
   ]
  },
  {
   "cell_type": "code",
   "execution_count": 2,
   "metadata": {
    "colab": {},
    "colab_type": "code",
    "id": "RWG5HchAiOrZ"
   },
   "outputs": [
    {
     "name": "stdout",
     "output_type": "stream",
     "text": [
      "\u001b[31mERROR: tensorflow-gpu 2.0.0b1 has requirement tb-nightly<1.14.0a20190604,>=1.14.0a20190603, but you'll have tb-nightly 1.15.0a20190723 which is incompatible.\u001b[0m\r\n"
     ]
    }
   ],
   "source": [
    "from __future__ import absolute_import, division, print_function, unicode_literals\n",
    "\n",
    "!pip install -q tf-nightly-gpu-2.0-preview\n",
    "import tensorflow_datasets as tfds\n",
    "\n",
    "import tensorflow as tf\n",
    "tfds.disable_progress_bar()"
   ]
  },
  {
   "cell_type": "markdown",
   "metadata": {
    "colab_type": "text",
    "id": "qqapWj98ptNV"
   },
   "source": [
    "Prepare the data and model using `tf.distribute.Strategy`:"
   ]
  },
  {
   "cell_type": "code",
   "execution_count": 3,
   "metadata": {
    "colab": {},
    "colab_type": "code",
    "id": "yrYiAf_ziRyw"
   },
   "outputs": [],
   "source": [
    "mirrored_strategy = tf.distribute.MirroredStrategy()\n",
    "\n",
    "def get_data():\n",
    "  datasets, ds_info = tfds.load(name='mnist', with_info=True, as_supervised=True)\n",
    "  mnist_train, mnist_test = datasets['train'], datasets['test']\n",
    "\n",
    "  BUFFER_SIZE = 10000\n",
    "\n",
    "  BATCH_SIZE_PER_REPLICA = 64\n",
    "  BATCH_SIZE = BATCH_SIZE_PER_REPLICA * mirrored_strategy.num_replicas_in_sync\n",
    "\n",
    "  def scale(image, label):\n",
    "    image = tf.cast(image, tf.float32)\n",
    "    image /= 255\n",
    "\n",
    "    return image, label\n",
    "\n",
    "  train_dataset = mnist_train.map(scale).shuffle(BUFFER_SIZE).batch(BATCH_SIZE)\n",
    "  eval_dataset = mnist_test.map(scale).batch(BATCH_SIZE)\n",
    "\n",
    "  return train_dataset, eval_dataset\n",
    "\n",
    "def get_model():\n",
    "  with mirrored_strategy.scope():\n",
    "    model = tf.keras.Sequential([\n",
    "        tf.keras.layers.Conv2D(32, 3, activation='relu', input_shape=(28, 28, 1)),\n",
    "        tf.keras.layers.MaxPooling2D(),\n",
    "        tf.keras.layers.Flatten(),\n",
    "        tf.keras.layers.Dense(64, activation='relu'),\n",
    "        tf.keras.layers.Dense(10, activation='softmax')\n",
    "    ])\n",
    "\n",
    "    model.compile(loss='sparse_categorical_crossentropy',\n",
    "                  optimizer=tf.keras.optimizers.Adam(),\n",
    "                  metrics=['accuracy'])\n",
    "    return model"
   ]
  },
  {
   "cell_type": "markdown",
   "metadata": {
    "colab_type": "text",
    "id": "qmU4Y3feS9Na"
   },
   "source": [
    "Train the model: "
   ]
  },
  {
   "cell_type": "code",
   "execution_count": 4,
   "metadata": {
    "colab": {},
    "colab_type": "code",
    "id": "zmGurbJmS_vN"
   },
   "outputs": [
    {
     "name": "stdout",
     "output_type": "stream",
     "text": [
      "\u001b[1mDownloading and preparing dataset mnist (11.06 MiB) to /home/kbuilder/tensorflow_datasets/mnist/1.0.0...\u001b[0m\n"
     ]
    },
    {
     "name": "stderr",
     "output_type": "stream",
     "text": [
      "/home/kbuilder/.local/lib/python3.5/site-packages/urllib3/connectionpool.py:851: InsecureRequestWarning: Unverified HTTPS request is being made. Adding certificate verification is strongly advised. See: https://urllib3.readthedocs.io/en/latest/advanced-usage.html#ssl-warnings\n",
      "  InsecureRequestWarning)\n",
      "/home/kbuilder/.local/lib/python3.5/site-packages/urllib3/connectionpool.py:851: InsecureRequestWarning: Unverified HTTPS request is being made. Adding certificate verification is strongly advised. See: https://urllib3.readthedocs.io/en/latest/advanced-usage.html#ssl-warnings\n",
      "  InsecureRequestWarning)\n",
      "/home/kbuilder/.local/lib/python3.5/site-packages/urllib3/connectionpool.py:851: InsecureRequestWarning: Unverified HTTPS request is being made. Adding certificate verification is strongly advised. See: https://urllib3.readthedocs.io/en/latest/advanced-usage.html#ssl-warnings\n",
      "  InsecureRequestWarning)\n",
      "/home/kbuilder/.local/lib/python3.5/site-packages/urllib3/connectionpool.py:851: InsecureRequestWarning: Unverified HTTPS request is being made. Adding certificate verification is strongly advised. See: https://urllib3.readthedocs.io/en/latest/advanced-usage.html#ssl-warnings\n",
      "  InsecureRequestWarning)\n",
      "WARNING: Logging before flag parsing goes to stderr.\n",
      "W0723 16:15:47.408791 139829970175744 deprecation.py:323] From /home/kbuilder/.local/lib/python3.5/site-packages/tensorflow_datasets/core/file_format_adapter.py:209: tf_record_iterator (from tensorflow.python.lib.io.tf_record) is deprecated and will be removed in a future version.\n",
      "Instructions for updating:\n",
      "Use eager execution and: \n",
      "`tf.data.TFRecordDataset(path)`\n",
      "W0723 16:15:51.705447 139829970175744 dataset_builder.py:439] Warning: Setting shuffle_files=True because split=TRAIN and shuffle_files=None. This behavior will be deprecated on 2019-08-06, at which point shuffle_files=False will be the default for all splits.\n"
     ]
    },
    {
     "name": "stdout",
     "output_type": "stream",
     "text": [
      "\u001b[1mDataset mnist downloaded and prepared to /home/kbuilder/tensorflow_datasets/mnist/1.0.0. Subsequent calls will reuse this data.\u001b[0m\n",
      "Train on None steps\n",
      "Epoch 1/2\n"
     ]
    },
    {
     "name": "stderr",
     "output_type": "stream",
     "text": [
      "W0723 16:15:52.818310 139829970175744 deprecation.py:323] From /tmpfs/src/tf_docs_env/lib/python3.5/site-packages/tensorflow_core/python/keras/optimizer_v2/optimizer_v2.py:468: BaseResourceVariable.constraint (from tensorflow.python.ops.resource_variable_ops) is deprecated and will be removed in a future version.\n",
      "Instructions for updating:\n",
      "Apply a constraint manually following the optimizer update step.\n"
     ]
    },
    {
     "name": "stdout",
     "output_type": "stream",
     "text": [
      "938/938 [==============================] - 14s 15ms/step - loss: 0.1944 - accuracy: 0.9454\n",
      "Epoch 2/2\n",
      "938/938 [==============================] - 7s 8ms/step - loss: 0.0647 - accuracy: 0.9808\n"
     ]
    },
    {
     "data": {
      "text/plain": [
       "<tensorflow.python.keras.callbacks.History at 0x7f2bdc06f160>"
      ]
     },
     "execution_count": 4,
     "metadata": {},
     "output_type": "execute_result"
    }
   ],
   "source": [
    "model = get_model()\n",
    "train_dataset, eval_dataset = get_data()\n",
    "model.fit(train_dataset, epochs=2)"
   ]
  },
  {
   "cell_type": "markdown",
   "metadata": {
    "colab_type": "text",
    "id": "L01wjgvRizHS"
   },
   "source": [
    "## Save and load the model\n",
    "\n",
    "Now that you have a simple model to work with, let's take a look at the saving/loading APIs. \n",
    "There are two sets of APIs available:\n",
    "\n",
    "*   High level keras `model.save` and `tf.keras.models.load_model`\n",
    "*   Low level `tf.saved_model.save` and `tf.saved_model.load`\n",
    "\n"
   ]
  },
  {
   "cell_type": "markdown",
   "metadata": {
    "colab_type": "text",
    "id": "FX_IF2F1tvFs"
   },
   "source": [
    "### The Keras APIs"
   ]
  },
  {
   "cell_type": "markdown",
   "metadata": {
    "colab_type": "text",
    "id": "O8xfceg4Z3H_"
   },
   "source": [
    "Here is an example of saving and loading a model with the Keras APIs:"
   ]
  },
  {
   "cell_type": "code",
   "execution_count": 5,
   "metadata": {
    "colab": {},
    "colab_type": "code",
    "id": "LYOStjV5knTQ"
   },
   "outputs": [
    {
     "name": "stderr",
     "output_type": "stream",
     "text": [
      "W0723 16:16:14.331085 139829970175744 deprecation.py:506] From /tmpfs/src/tf_docs_env/lib/python3.5/site-packages/tensorflow_core/python/ops/resource_variable_ops.py:1784: calling BaseResourceVariable.__init__ (from tensorflow.python.ops.resource_variable_ops) with constraint is deprecated and will be removed in a future version.\n",
      "Instructions for updating:\n",
      "If using Keras pass *_constraint arguments to layers.\n"
     ]
    }
   ],
   "source": [
    "keras_model_path = \"/tmp/keras_save\"\n",
    "model.save(keras_model_path)  # save() should be called out of strategy scope"
   ]
  },
  {
   "cell_type": "markdown",
   "metadata": {
    "colab_type": "text",
    "id": "yvQIdQp3zNMp"
   },
   "source": [
    "Restore the model without `tf.distribute.Strategy`:"
   ]
  },
  {
   "cell_type": "code",
   "execution_count": 6,
   "metadata": {
    "colab": {},
    "colab_type": "code",
    "id": "WrXAAVtrzRgv"
   },
   "outputs": [
    {
     "name": "stdout",
     "output_type": "stream",
     "text": [
      "Epoch 1/2\n"
     ]
    },
    {
     "name": "stderr",
     "output_type": "stream",
     "text": [
      "W0723 16:16:16.338085 139829970175744 deprecation.py:323] From /tmpfs/src/tf_docs_env/lib/python3.5/site-packages/tensorflow_core/python/ops/math_grad.py:1251: where (from tensorflow.python.ops.array_ops) is deprecated and will be removed in a future version.\n",
      "Instructions for updating:\n",
      "Use tf.where in 2.0, which has the same broadcast rule as np.where\n"
     ]
    },
    {
     "name": "stdout",
     "output_type": "stream",
     "text": [
      "938/938 [==============================] - 11s 11ms/step - loss: 0.0473 - accuracy: 0.9855\n",
      "Epoch 2/2\n",
      "938/938 [==============================] - 9s 10ms/step - loss: 0.0331 - accuracy: 0.9898\n"
     ]
    },
    {
     "data": {
      "text/plain": [
       "<tensorflow.python.keras.callbacks.History at 0x7f2c906d7c18>"
      ]
     },
     "execution_count": 6,
     "metadata": {},
     "output_type": "execute_result"
    }
   ],
   "source": [
    "restored_keras_model = tf.keras.models.load_model(keras_model_path)\n",
    "restored_keras_model.fit(train_dataset, epochs=2)"
   ]
  },
  {
   "cell_type": "markdown",
   "metadata": {
    "colab_type": "text",
    "id": "gYAnskzorda-"
   },
   "source": [
    "After restoring the model, you can continue training on it, even without needing to call `compile()` again, since it is already compiled before saving. The model is saved in the TensorFlow's standard `SavedModel` proto format. For more information, please refer to [the guide to `saved_model` format](../../guide/saved_model.ipynb).\n",
    "\n",
    "It is important to only call the `model.save()` method out of the scope of `tf.distribute.strategy`. Calling it within the scope is not supported.\n",
    "\n",
    "Now to load the model and train it using a `tf.distribute.Strategy`:"
   ]
  },
  {
   "cell_type": "code",
   "execution_count": 7,
   "metadata": {
    "colab": {},
    "colab_type": "code",
    "id": "wROPrJaAqBQz"
   },
   "outputs": [
    {
     "name": "stdout",
     "output_type": "stream",
     "text": [
      "Train on None steps\n",
      "Epoch 1/2\n",
      "938/938 [==============================] - 15s 16ms/step - loss: 0.0466 - accuracy: 0.9858\n",
      "Epoch 2/2\n",
      "938/938 [==============================] - 14s 15ms/step - loss: 0.0331 - accuracy: 0.9900\n"
     ]
    }
   ],
   "source": [
    "another_strategy = tf.distribute.OneDeviceStrategy(\"/cpu:0\")\n",
    "with another_strategy.scope():\n",
    "  restored_keras_model_ds = tf.keras.models.load_model(keras_model_path)\n",
    "  restored_keras_model_ds.fit(train_dataset, epochs=2)"
   ]
  },
  {
   "cell_type": "markdown",
   "metadata": {
    "colab_type": "text",
    "id": "PdiiPmL5tQk5"
   },
   "source": [
    "As you can see, loading works as expected with `tf.distribute.Strategy`. The strategy used here does not have to be the same strategy used before saving. "
   ]
  },
  {
   "cell_type": "markdown",
   "metadata": {
    "colab_type": "text",
    "id": "3CrXIbmFt0f6"
   },
   "source": [
    "### The `tf.saved_model` APIs"
   ]
  },
  {
   "cell_type": "markdown",
   "metadata": {
    "colab_type": "text",
    "id": "HtGzPp6et4Em"
   },
   "source": [
    "Now let's take a look at the lower level APIs. Saving the model is similar to the keras API:"
   ]
  },
  {
   "cell_type": "code",
   "execution_count": 8,
   "metadata": {
    "colab": {},
    "colab_type": "code",
    "id": "4y6T31APuCqK"
   },
   "outputs": [],
   "source": [
    "model = get_model()  # get a fresh model\n",
    "saved_model_path = \"/tmp/tf_save\"\n",
    "tf.saved_model.save(model, saved_model_path)"
   ]
  },
  {
   "cell_type": "markdown",
   "metadata": {
    "colab_type": "text",
    "id": "q1QNRYcwuRll"
   },
   "source": [
    "Loading can be done with `tf.saved_model.load()`. However, since it is an API that is on the lower level (and hence has a wider range of use cases), it does not return a Keras model. Instead, it returns an object that contain functions that can be used to do inference. For example:"
   ]
  },
  {
   "cell_type": "code",
   "execution_count": 9,
   "metadata": {
    "colab": {},
    "colab_type": "code",
    "id": "aaEKqBSPwAuM"
   },
   "outputs": [],
   "source": [
    "DEFAULT_FUNCTION_KEY = \"serving_default\"\n",
    "loaded = tf.saved_model.load(saved_model_path)\n",
    "inference_func = loaded.signatures[DEFAULT_FUNCTION_KEY]"
   ]
  },
  {
   "cell_type": "markdown",
   "metadata": {
    "colab_type": "text",
    "id": "x65l7AaHUZCA"
   },
   "source": [
    "The loaded object may contain multiple functions, each associated with a key. The `\"serving_default\"` is the default key for the inference function with a saved Keras model. To do an inference with this function: "
   ]
  },
  {
   "cell_type": "code",
   "execution_count": 10,
   "metadata": {
    "colab": {},
    "colab_type": "code",
    "id": "5Ore5q8-UjW1"
   },
   "outputs": [
    {
     "name": "stdout",
     "output_type": "stream",
     "text": [
      "{'dense_3': <tf.Tensor: id=166738, shape=(64, 10), dtype=float32, numpy=\n",
      "array([[0.09231672, 0.09953304, 0.09465826, 0.10343242, 0.10588677,\n",
      "        0.09600872, 0.1100581 , 0.10270018, 0.09812145, 0.09728431],\n",
      "       [0.07990979, 0.09199236, 0.10222469, 0.09372815, 0.10940314,\n",
      "        0.08849098, 0.12083938, 0.10454382, 0.10967229, 0.09919544],\n",
      "       [0.07633276, 0.08893771, 0.12663601, 0.08763254, 0.10465182,\n",
      "        0.0917857 , 0.11164738, 0.10479801, 0.11864899, 0.08892905],\n",
      "       [0.08817001, 0.08796395, 0.1085823 , 0.09168394, 0.09610961,\n",
      "        0.10440423, 0.11744429, 0.10751646, 0.10617718, 0.091948  ],\n",
      "       [0.08173671, 0.08818994, 0.10109878, 0.09149405, 0.11205883,\n",
      "        0.1101862 , 0.1017787 , 0.10389204, 0.11532298, 0.09424184],\n",
      "       [0.06885588, 0.09565906, 0.11044343, 0.09798832, 0.11393119,\n",
      "        0.07866198, 0.11735097, 0.09509574, 0.12256799, 0.09944542],\n",
      "       [0.07727788, 0.090423  , 0.10464002, 0.08172425, 0.11254589,\n",
      "        0.10337856, 0.11081803, 0.10872773, 0.11072492, 0.09973975],\n",
      "       [0.08450928, 0.09106896, 0.11862742, 0.09027806, 0.09329712,\n",
      "        0.09745084, 0.11425411, 0.1036697 , 0.11816408, 0.08868048],\n",
      "       [0.08096046, 0.09360045, 0.11288963, 0.08351775, 0.08704429,\n",
      "        0.10211702, 0.11431903, 0.11685483, 0.11102579, 0.09767077],\n",
      "       [0.08401416, 0.09733418, 0.11720861, 0.09693249, 0.11102612,\n",
      "        0.08928312, 0.10076886, 0.10862414, 0.09825773, 0.09655061],\n",
      "       [0.08312257, 0.08836768, 0.11180653, 0.09932043, 0.10951784,\n",
      "        0.0956405 , 0.10319367, 0.10987347, 0.11319447, 0.08596282],\n",
      "       [0.08502122, 0.09827482, 0.09109385, 0.09343939, 0.10042541,\n",
      "        0.09456176, 0.11190221, 0.11171369, 0.11503183, 0.09853578],\n",
      "       [0.07304508, 0.09206945, 0.11039551, 0.09469621, 0.10142162,\n",
      "        0.08972248, 0.11384338, 0.10246416, 0.1179909 , 0.10435119],\n",
      "       [0.07736263, 0.08570794, 0.11208514, 0.0976693 , 0.10666498,\n",
      "        0.09115279, 0.12029842, 0.11545283, 0.11156993, 0.08203609],\n",
      "       [0.08359311, 0.09818892, 0.10201609, 0.09601605, 0.09975927,\n",
      "        0.10639565, 0.10746535, 0.09868822, 0.11785673, 0.0900206 ],\n",
      "       [0.08624783, 0.09362113, 0.09944852, 0.09660594, 0.11239259,\n",
      "        0.09920679, 0.1122668 , 0.10534612, 0.10674781, 0.08811641],\n",
      "       [0.08180052, 0.09444254, 0.10626798, 0.09650509, 0.10282332,\n",
      "        0.08989918, 0.1113276 , 0.09668779, 0.11519673, 0.10504914],\n",
      "       [0.0850782 , 0.09434231, 0.10624527, 0.09239866, 0.1129279 ,\n",
      "        0.08927237, 0.09571274, 0.11737511, 0.09617741, 0.11047005],\n",
      "       [0.09179629, 0.089107  , 0.11574042, 0.1018612 , 0.09721434,\n",
      "        0.09517227, 0.10748236, 0.10366044, 0.10400902, 0.09395667],\n",
      "       [0.08576129, 0.10227894, 0.11375381, 0.08560571, 0.096401  ,\n",
      "        0.08921702, 0.10628291, 0.10887338, 0.10913727, 0.10268859],\n",
      "       [0.08473831, 0.08103109, 0.11242784, 0.09159988, 0.10082479,\n",
      "        0.10583459, 0.10958565, 0.10333727, 0.11604888, 0.09457175],\n",
      "       [0.08746564, 0.09993853, 0.10050082, 0.08998967, 0.08778696,\n",
      "        0.10305524, 0.12034696, 0.10175089, 0.11700748, 0.09215788],\n",
      "       [0.07314431, 0.09131427, 0.10299017, 0.08261709, 0.11305675,\n",
      "        0.09651278, 0.1122571 , 0.11789576, 0.10923194, 0.10097981],\n",
      "       [0.08544653, 0.0831931 , 0.11302163, 0.09244276, 0.09887841,\n",
      "        0.10268421, 0.11176009, 0.1041573 , 0.11548999, 0.09292597],\n",
      "       [0.08252361, 0.0915894 , 0.10372932, 0.09116995, 0.109615  ,\n",
      "        0.09371433, 0.11383364, 0.10433467, 0.10768672, 0.10180338],\n",
      "       [0.07877718, 0.0805931 , 0.1023593 , 0.08529855, 0.12433945,\n",
      "        0.08991525, 0.10963415, 0.11047183, 0.11123665, 0.10737456],\n",
      "       [0.08787414, 0.10539614, 0.10041662, 0.09743775, 0.10273769,\n",
      "        0.09589004, 0.10583825, 0.10228475, 0.10140465, 0.10071996],\n",
      "       [0.08456152, 0.09564719, 0.09632312, 0.09065056, 0.09799775,\n",
      "        0.09650351, 0.09800903, 0.11309697, 0.10660053, 0.1206098 ],\n",
      "       [0.08767448, 0.08015379, 0.09998959, 0.09862101, 0.11625454,\n",
      "        0.10410554, 0.09193148, 0.12031312, 0.09833096, 0.10262548],\n",
      "       [0.08224199, 0.09373207, 0.10257173, 0.09089411, 0.1112142 ,\n",
      "        0.09759527, 0.09836442, 0.11671165, 0.10828988, 0.09838463],\n",
      "       [0.07739028, 0.08392812, 0.10360287, 0.08802784, 0.10967416,\n",
      "        0.10324571, 0.11562827, 0.10085174, 0.11259694, 0.1050541 ],\n",
      "       [0.08628735, 0.08936376, 0.10882944, 0.08280668, 0.10282227,\n",
      "        0.10474144, 0.11778442, 0.10494751, 0.11041509, 0.09200197],\n",
      "       [0.07761189, 0.07916015, 0.11417512, 0.08789334, 0.12136035,\n",
      "        0.09481008, 0.11400542, 0.09532308, 0.11631317, 0.09934741],\n",
      "       [0.08269186, 0.08228792, 0.10846302, 0.08388286, 0.11605048,\n",
      "        0.10050841, 0.11214539, 0.10518187, 0.11033133, 0.09845692],\n",
      "       [0.08102783, 0.08701204, 0.10458053, 0.09450534, 0.11419574,\n",
      "        0.10705234, 0.09594951, 0.11033173, 0.10616906, 0.09917593],\n",
      "       [0.08161498, 0.0853941 , 0.10019087, 0.09100891, 0.11490139,\n",
      "        0.09905242, 0.11578018, 0.09859648, 0.11831183, 0.09514894],\n",
      "       [0.07759741, 0.07989763, 0.10771647, 0.08149634, 0.11191683,\n",
      "        0.09551191, 0.12594053, 0.10602077, 0.12300568, 0.09089645],\n",
      "       [0.08780991, 0.09542975, 0.10220238, 0.09220587, 0.10040312,\n",
      "        0.09966413, 0.11067262, 0.1077435 , 0.10465658, 0.09921217],\n",
      "       [0.07958077, 0.08899847, 0.10778642, 0.08276662, 0.10968897,\n",
      "        0.1040611 , 0.10647843, 0.10962905, 0.11156615, 0.09944408],\n",
      "       [0.08704097, 0.09846999, 0.10339946, 0.1032389 , 0.11335944,\n",
      "        0.09452801, 0.10312895, 0.10533608, 0.09730716, 0.09419104],\n",
      "       [0.08236762, 0.0868315 , 0.10023019, 0.10086174, 0.10983258,\n",
      "        0.096411  , 0.10876857, 0.10329971, 0.11233519, 0.09906186],\n",
      "       [0.0762164 , 0.08188146, 0.10388287, 0.08901494, 0.10324027,\n",
      "        0.09871371, 0.1256796 , 0.11321361, 0.12311595, 0.08504114],\n",
      "       [0.0830194 , 0.08279556, 0.10970916, 0.09141584, 0.1017332 ,\n",
      "        0.10129897, 0.08819734, 0.13539146, 0.10536808, 0.10107107],\n",
      "       [0.09344211, 0.09047294, 0.09433971, 0.09305678, 0.11411729,\n",
      "        0.10348235, 0.1020866 , 0.10607552, 0.1026146 , 0.10031207],\n",
      "       [0.08777194, 0.09302851, 0.09233507, 0.1035087 , 0.10458043,\n",
      "        0.09779349, 0.1182076 , 0.09861693, 0.11144282, 0.09271446],\n",
      "       [0.07872418, 0.08175928, 0.10836436, 0.08606501, 0.11317271,\n",
      "        0.0990265 , 0.11094194, 0.10857114, 0.12024249, 0.09313235],\n",
      "       [0.08702483, 0.09932228, 0.09209876, 0.09884992, 0.11834428,\n",
      "        0.09333085, 0.09454048, 0.11642125, 0.09577166, 0.10429573],\n",
      "       [0.07446556, 0.09198909, 0.1165712 , 0.08747534, 0.08038491,\n",
      "        0.10109916, 0.1291341 , 0.10134227, 0.13649756, 0.08104081],\n",
      "       [0.07658947, 0.08281617, 0.10476348, 0.08440294, 0.11435779,\n",
      "        0.10114957, 0.1169994 , 0.10567138, 0.11252327, 0.1007265 ],\n",
      "       [0.07691864, 0.08756676, 0.10186536, 0.0991453 , 0.11311395,\n",
      "        0.09157278, 0.10139491, 0.12098123, 0.10896733, 0.09847372],\n",
      "       [0.08147624, 0.09457624, 0.10410799, 0.09134648, 0.11006872,\n",
      "        0.09194075, 0.10826109, 0.10870507, 0.10544015, 0.10407727],\n",
      "       [0.08220081, 0.09313025, 0.10747802, 0.08613177, 0.10448657,\n",
      "        0.10513192, 0.10233442, 0.12127623, 0.09998088, 0.09784907],\n",
      "       [0.08820771, 0.0936484 , 0.10371071, 0.08937763, 0.09427329,\n",
      "        0.1040035 , 0.10846975, 0.11584021, 0.10516211, 0.09730668],\n",
      "       [0.08159372, 0.09211913, 0.11508048, 0.09558907, 0.10672218,\n",
      "        0.08809296, 0.08606911, 0.12816294, 0.09487363, 0.11169678],\n",
      "       [0.07937863, 0.09255426, 0.10778408, 0.09496468, 0.11292724,\n",
      "        0.09118098, 0.09061372, 0.12446892, 0.09768397, 0.1084434 ],\n",
      "       [0.08480479, 0.0942324 , 0.1102421 , 0.08370346, 0.11402554,\n",
      "        0.10185185, 0.09503515, 0.11407322, 0.10745846, 0.09457301],\n",
      "       [0.08780495, 0.09340137, 0.0971284 , 0.0880672 , 0.10510916,\n",
      "        0.10221268, 0.11036218, 0.10802833, 0.10645621, 0.10142945],\n",
      "       [0.07928973, 0.09387071, 0.11009416, 0.08544525, 0.10740269,\n",
      "        0.09658782, 0.10771082, 0.1003274 , 0.11531057, 0.10396076],\n",
      "       [0.08671014, 0.09279732, 0.10001586, 0.08449737, 0.10814037,\n",
      "        0.10550717, 0.10443537, 0.11382705, 0.10646998, 0.0975994 ],\n",
      "       [0.0803702 , 0.09611486, 0.11064314, 0.09540019, 0.10761579,\n",
      "        0.08911382, 0.09121236, 0.12495784, 0.09726021, 0.10731159],\n",
      "       [0.08260969, 0.09876922, 0.0980681 , 0.0886996 , 0.12387724,\n",
      "        0.09037116, 0.09101812, 0.11984212, 0.09233936, 0.11440529],\n",
      "       [0.07650578, 0.08753646, 0.10475819, 0.08204788, 0.11033785,\n",
      "        0.10169094, 0.11121321, 0.11523809, 0.11404315, 0.09662845],\n",
      "       [0.08073004, 0.07951098, 0.10360974, 0.08656412, 0.11025628,\n",
      "        0.11139714, 0.10162551, 0.12194107, 0.11515433, 0.08921083],\n",
      "       [0.0875614 , 0.08775345, 0.11400013, 0.09359115, 0.1026548 ,\n",
      "        0.0968114 , 0.10558134, 0.10478314, 0.10994919, 0.09731401]],\n",
      "      dtype=float32)>}\n"
     ]
    }
   ],
   "source": [
    "predict_dataset = eval_dataset.map(lambda image, label: image)\n",
    "for batch in predict_dataset.take(1):\n",
    "  print(inference_func(batch))"
   ]
  },
  {
   "cell_type": "markdown",
   "metadata": {
    "colab_type": "text",
    "id": "osB1LY8WwUJZ"
   },
   "source": [
    "You can also load and do inference in a distributed manner:"
   ]
  },
  {
   "cell_type": "code",
   "execution_count": 11,
   "metadata": {
    "colab": {},
    "colab_type": "code",
    "id": "iDYvu12zYTmT"
   },
   "outputs": [
    {
     "name": "stderr",
     "output_type": "stream",
     "text": [
      "W0723 16:17:06.346574 139829970175744 mirrored_strategy.py:645] Using MirroredStrategy eagerly has significant overhead currently. We will be working on improving this in the future, but for now please wrap `call_for_each_replica` or `experimental_run` or `experimental_run_v2` inside a tf.function to get the best performance.\n",
      "W0723 16:17:06.376902 139829970175744 mirrored_strategy.py:645] Using MirroredStrategy eagerly has significant overhead currently. We will be working on improving this in the future, but for now please wrap `call_for_each_replica` or `experimental_run` or `experimental_run_v2` inside a tf.function to get the best performance.\n",
      "W0723 16:17:06.382656 139829970175744 mirrored_strategy.py:645] Using MirroredStrategy eagerly has significant overhead currently. We will be working on improving this in the future, but for now please wrap `call_for_each_replica` or `experimental_run` or `experimental_run_v2` inside a tf.function to get the best performance.\n",
      "W0723 16:17:06.387700 139829970175744 mirrored_strategy.py:645] Using MirroredStrategy eagerly has significant overhead currently. We will be working on improving this in the future, but for now please wrap `call_for_each_replica` or `experimental_run` or `experimental_run_v2` inside a tf.function to get the best performance.\n",
      "W0723 16:17:06.392600 139829970175744 mirrored_strategy.py:645] Using MirroredStrategy eagerly has significant overhead currently. We will be working on improving this in the future, but for now please wrap `call_for_each_replica` or `experimental_run` or `experimental_run_v2` inside a tf.function to get the best performance.\n"
     ]
    }
   ],
   "source": [
    "another_strategy = tf.distribute.MirroredStrategy()\n",
    "with another_strategy.scope():\n",
    "  loaded = tf.saved_model.load(saved_model_path)\n",
    "  inference_func = loaded.signatures[DEFAULT_FUNCTION_KEY]\n",
    "\n",
    "  dist_predict_dataset = another_strategy.experimental_distribute_dataset(\n",
    "      predict_dataset)\n",
    "\n",
    "  # Calling the function in a distributed manner\n",
    "  for batch in dist_predict_dataset:\n",
    "    another_strategy.experimental_run_v2(inference_func, \n",
    "                                         args=(batch,))"
   ]
  },
  {
   "cell_type": "markdown",
   "metadata": {
    "colab_type": "text",
    "id": "hWGSukoyw3fF"
   },
   "source": [
    "Calling the restored function is just a forward pass on the saved model (predict). What if yout want to continue training the loaded function? Or embed the loaded function into a bigger model? A common practice is to wrap this loaded object to a Keras layer to achieve this. Luckily, [TF Hub](https://www.tensorflow.org/hub) has [hub.KerasLayer](https://github.com/tensorflow/hub/blob/master/tensorflow_hub/keras_layer.py) for this purpose, shown here:"
   ]
  },
  {
   "cell_type": "code",
   "execution_count": 12,
   "metadata": {
    "colab": {},
    "colab_type": "code",
    "id": "clfk3hQoyKu6"
   },
   "outputs": [
    {
     "name": "stdout",
     "output_type": "stream",
     "text": [
      "Train on None steps\n",
      "Epoch 1/2\n",
      "938/938 [==============================] - 11s 12ms/step - loss: 0.2023 - accuracy: 0.9405\n",
      "Epoch 2/2\n",
      "938/938 [==============================] - 7s 7ms/step - loss: 0.0660 - accuracy: 0.9799\n"
     ]
    }
   ],
   "source": [
    "import tensorflow_hub as hub\n",
    "\n",
    "def build_model(loaded):\n",
    "  x = tf.keras.layers.Input(shape=(28, 28, 1), name='input_x')\n",
    "  # Wrap what's loaded to a KerasLayer\n",
    "  keras_layer = hub.KerasLayer(loaded, trainable=True)(x)\n",
    "  model = tf.keras.Model(x, keras_layer)\n",
    "  return model\n",
    "\n",
    "another_strategy = tf.distribute.MirroredStrategy()\n",
    "with another_strategy.scope():\n",
    "  loaded = tf.saved_model.load(saved_model_path)\n",
    "  model = build_model(loaded)\n",
    "\n",
    "  model.compile(loss='sparse_categorical_crossentropy',\n",
    "                optimizer=tf.keras.optimizers.Adam(),\n",
    "                metrics=['accuracy'])\n",
    "  model.fit(train_dataset, epochs=2)"
   ]
  },
  {
   "cell_type": "markdown",
   "metadata": {
    "colab_type": "text",
    "id": "Oe1z_OtSJlu2"
   },
   "source": [
    "As you can see, `hub.KerasLayer` wraps the result loaded back from `tf.saved_model.load()` into a Keras layer that can be used to build another model. This is very useful for transfer learning. "
   ]
  },
  {
   "cell_type": "markdown",
   "metadata": {
    "colab_type": "text",
    "id": "KFDOZpK5Wa3W"
   },
   "source": [
    "### Which API should I use?"
   ]
  },
  {
   "cell_type": "markdown",
   "metadata": {
    "colab_type": "text",
    "id": "GC6GQ9HDLxD6"
   },
   "source": [
    "For saving, if you are working with a keras model, it is almost always recommended to use the Keras's `model.save()` API. If what you are saving is not a Keras model, then the lower level API is your only choice. \n",
    "\n",
    "For loading, which API you use depends on what you want to get from the loading API. If you cannot (or do not want to) get a Keras model, then use `tf.saved_model.load()`. Otherwise, use `tf.keras.models.load_model()`. Note that you can get a Keras model back only if you saved a Keras model. \n",
    "\n",
    "It is possible to mix and match the APIs. You can save a Keras model with `model.save`, and load a non-Keras model with the low-level API, `tf.saved_model.load`. "
   ]
  },
  {
   "cell_type": "code",
   "execution_count": 13,
   "metadata": {
    "colab": {},
    "colab_type": "code",
    "id": "Ktwg2GwnXE8v"
   },
   "outputs": [],
   "source": [
    "model = get_model()\n",
    "\n",
    "# Saving the model using Keras's save() API\n",
    "model.save(keras_model_path) \n",
    "\n",
    "another_strategy = tf.distribute.MirroredStrategy()\n",
    "# Loading the model using lower level API\n",
    "with another_strategy.scope():\n",
    "  loaded = tf.saved_model.load(keras_model_path)"
   ]
  },
  {
   "cell_type": "markdown",
   "metadata": {
    "colab_type": "text",
    "id": "hJTWOnC9iuA3"
   },
   "source": [
    "### Caveats"
   ]
  },
  {
   "cell_type": "markdown",
   "metadata": {
    "colab_type": "text",
    "id": "Tzog2ti7YYgy"
   },
   "source": [
    "A special case is when you have a Keras model that does not have well-defined inputs. For example, a Sequential model can be created without any input shapes (`Sequential([Dense(3), ...]`). Subclassed models also do not have well-defined inputs after initialization. In this case, you should stick with the lower level APIs on both saving and loading, otherwise you will get an error. \n",
    "\n",
    "To check if your model has well-defined inputs, just check if `model.inputs` is `None`. If it is not `None`, you are all good. Input shapes are automatically defined when the model is used in `.fit`, `.evaluate`, `.predict`, or when calling the model (`model(inputs)`). \n",
    "\n",
    "Here is an example:"
   ]
  },
  {
   "cell_type": "code",
   "execution_count": 14,
   "metadata": {
    "colab": {},
    "colab_type": "code",
    "id": "gurSIbDFjOBc"
   },
   "outputs": [
    {
     "name": "stderr",
     "output_type": "stream",
     "text": [
      "W0723 16:17:27.999839 139829970175744 save.py:154] Skipping full serialization of Keras model <__main__.SubclassedModel object at 0x7f2c863c4780>, because its inputs are not defined.\n",
      "W0723 16:17:28.002688 139829970175744 save.py:161] Skipping full serialization of Keras layer <tensorflow.python.keras.layers.core.Dense object at 0x7f2c863c49e8>, because it is not built.\n"
     ]
    }
   ],
   "source": [
    "class SubclassedModel(tf.keras.Model):\n",
    "\n",
    "  output_name = 'output_layer'\n",
    "\n",
    "  def __init__(self):\n",
    "    super(SubclassedModel, self).__init__()\n",
    "    self._dense_layer = tf.keras.layers.Dense(\n",
    "        5, dtype=tf.dtypes.float32, name=self.output_name)\n",
    "\n",
    "  def call(self, inputs):\n",
    "    return self._dense_layer(inputs)\n",
    "\n",
    "my_model = SubclassedModel()\n",
    "# my_model.save(keras_model_path)  # ERROR! \n",
    "tf.saved_model.save(my_model, saved_model_path)"
   ]
  }
 ],
 "metadata": {
  "colab": {
   "collapsed_sections": [],
   "name": "save_and_load.ipynb",
   "private_outputs": true,
   "provenance": [
    {
     "file_id": "1QfmRqc5bTaHZhu4-FzRTWDiO2d6gr_r1",
     "timestamp": 1560191609957
    }
   ],
   "toc_visible": true,
   "version": "0.3.2"
  },
  "kernelspec": {
   "display_name": "Python 3",
   "language": "python",
   "name": "python3"
  },
  "language_info": {
   "codemirror_mode": {
    "name": "ipython",
    "version": 3
   },
   "file_extension": ".py",
   "mimetype": "text/x-python",
   "name": "python",
   "nbconvert_exporter": "python",
   "pygments_lexer": "ipython3",
   "version": "3.6.8"
  }
 },
 "nbformat": 4,
 "nbformat_minor": 1
}
