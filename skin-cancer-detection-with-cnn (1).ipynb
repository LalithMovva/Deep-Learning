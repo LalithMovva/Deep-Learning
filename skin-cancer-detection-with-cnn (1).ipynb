{
 "cells": [
  {
   "cell_type": "markdown",
   "metadata": {},
   "source": [
    "# Skin Cancer: Malignant vs Benign\n",
    "This dataset contains a balanced dataset of images of benign skin moles and malignant skin moles."
   ]
  },
  {
   "cell_type": "code",
   "execution_count": 1,
   "metadata": {
    "_cell_guid": "b1076dfc-b9ad-4769-8c92-a6c4dae69d19",
    "_kg_hide-input": true,
    "_kg_hide-output": true,
    "_uuid": "8f2839f25d086af736a60e9eeb907d3b93b6e0e5"
   },
   "outputs": [
    {
     "name": "stderr",
     "output_type": "stream",
     "text": [
      "Using TensorFlow backend.\n"
     ]
    }
   ],
   "source": [
    "%matplotlib inline\n",
    "\n",
    "import os\n",
    "import gc\n",
    "from PIL import Image\n",
    "\n",
    "import tqdm\n",
    "import numpy as np\n",
    "import seaborn as sns\n",
    "import pandas as pd\n",
    "from matplotlib import pyplot as plt\n",
    "from keras.models import Sequential\n",
    "from sklearn.model_selection import train_test_split\n",
    "from keras.preprocessing.image import ImageDataGenerator\n",
    "from keras.layers import Dense, Conv2D, MaxPooling2D, Flatten, Dropout, LeakyReLU\n",
    "from keras.applications import VGG16\n",
    "from tensorflow import set_random_seed\n",
    "from sklearn.utils import check_random_state\n",
    "\n",
    "\n",
    "sns.set()\n",
    "np.random.seed(0);\n",
    "set_random_seed(0);\n",
    "check_random_state(0);"
   ]
  },
  {
   "cell_type": "markdown",
   "metadata": {},
   "source": [
    "## Content\n",
    "\n",
    "The data consists of two folders with each 1800 pictures (224x244) of the two types of moles."
   ]
  },
  {
   "cell_type": "code",
   "execution_count": 2,
   "metadata": {
    "_cell_guid": "79c7e3d0-c299-4dcb-8224-4455121ee9b0",
    "_kg_hide-input": true,
    "_uuid": "d629ff2d2480ee46fbb7e2d37f6b5fab8052498a"
   },
   "outputs": [
    {
     "name": "stdout",
     "output_type": "stream",
     "text": [
      "Size of train set: 2637\n",
      "Size of test set: 660\n",
      "1800 benign labeled samples and 1497 malignant\n"
     ]
    }
   ],
   "source": [
    "# Save the file path of each image and separate them to different classes\n",
    "#\n",
    "# Labels:\n",
    "# 0 -> benign\n",
    "# 1 -> malignant\n",
    "\n",
    "train_imgs, test_imgs = [], []\n",
    "train_labels, test_labels = [], []\n",
    "\n",
    "for img_path in os.listdir('../input/data/train/benign'):\n",
    "    train_imgs.append('../input/data/train/benign/' + img_path)\n",
    "    train_labels.append(0)\n",
    "    \n",
    "for img_path in os.listdir('../input/data/train/malignant'):\n",
    "    train_imgs.append('../input/data/train/malignant/' + img_path)\n",
    "    train_labels.append(1)\n",
    "    \n",
    "for img_path in os.listdir('../input/data/test/benign'):\n",
    "    test_imgs.append('../input/data/test/benign/' + img_path)\n",
    "    test_labels.append(0)\n",
    "    \n",
    "for img_path in os.listdir('../input/data/test/malignant'):\n",
    "    test_imgs.append('../input/data/test/malignant/' + img_path)\n",
    "    test_labels.append(1)\n",
    "    \n",
    "train_imgs, test_imgs = np.array(train_imgs), np.array(test_imgs)\n",
    "train_labels, test_labels = np.array(train_labels), np.array(test_labels)\n",
    "    \n",
    "class_distribution = np.bincount(np.concatenate([train_labels, test_labels]))\n",
    "    \n",
    "print('Size of train set:', len(train_imgs))\n",
    "print('Size of test set:', len(test_imgs))\n",
    "print(class_distribution[0], 'benign labeled samples and', class_distribution[1], 'malignant')"
   ]
  },
  {
   "cell_type": "markdown",
   "metadata": {},
   "source": [
    "## Data selection\n",
    "\n",
    "Because of the size of the dataset I merge the train and the test sets to slice only 10% of the whole training data as the test set.\n",
    "\n",
    "Then I slice 7% of the train set to use it for validation."
   ]
  },
  {
   "cell_type": "code",
   "execution_count": 3,
   "metadata": {
    "_kg_hide-input": true
   },
   "outputs": [
    {
     "name": "stderr",
     "output_type": "stream",
     "text": [
      "100%|██████████| 2637/2637 [00:11<00:00, 233.35it/s]\n",
      "100%|██████████| 660/660 [00:02<00:00, 243.96it/s]\n"
     ]
    },
    {
     "name": "stdout",
     "output_type": "stream",
     "text": [
      "Shape of the new train set: (2818, 224, 224, 3)\n",
      "Shape of the new test set: (330, 224, 224, 3)\n",
      "Shape of the validation set: (149, 224, 224, 3)\n"
     ]
    }
   ],
   "source": [
    "# Load the images to memory\n",
    "xtrain, xtest = [], []\n",
    "ytrain, ytest = train_labels, test_labels\n",
    "\n",
    "for filename in tqdm.tqdm(train_imgs):\n",
    "    xtrain.append(np.array(Image.open(filename)))\n",
    "    \n",
    "for filename in tqdm.tqdm(test_imgs):\n",
    "    xtest.append(np.array(Image.open(filename)))\n",
    "    \n",
    "del train_imgs, test_imgs, train_labels, test_labels\n",
    "xtrain, xtest = np.array(xtrain), np.array(xtest)\n",
    "\n",
    "# Merge and split train and test set to have more train data\n",
    "data = np.concatenate([xtrain, xtest])\n",
    "labels = np.concatenate([ytrain, ytest])\n",
    "\n",
    "# Spliting data to train, validation and test values\n",
    "xtrain, xtest, ytrain, ytest = train_test_split(data, labels, test_size=.1, random_state=0)\n",
    "xtra, xval, ytra, yval = train_test_split(xtrain, ytrain, test_size=.05, random_state=0, shuffle=False)\n",
    "\n",
    "gc.collect()\n",
    "print('Shape of the new train set:', xtra.shape)\n",
    "print('Shape of the new test set:', xtest.shape)\n",
    "print('Shape of the validation set:', xval.shape)"
   ]
  },
  {
   "cell_type": "markdown",
   "metadata": {},
   "source": [
    "Now I generate more training images by changing some of them."
   ]
  },
  {
   "cell_type": "code",
   "execution_count": 4,
   "metadata": {
    "_kg_hide-input": false
   },
   "outputs": [
    {
     "name": "stdout",
     "output_type": "stream",
     "text": [
      "New number of training samples: 5636\n"
     ]
    }
   ],
   "source": [
    "data_generator = ImageDataGenerator(rotation_range=90,\n",
    "                                    width_shift_range=0.15,\n",
    "                                    height_shift_range=0.15,\n",
    "                                    horizontal_flip=True,\n",
    "                                    vertical_flip=True,\n",
    "                                    brightness_range=[0.8, 1.1],\n",
    "                                    fill_mode='nearest')\n",
    "\n",
    "new_samples, new_labels = next(data_generator.flow(xtra, ytra, batch_size=len(xtra)))\n",
    "xtra = np.concatenate([xtra, new_samples])\n",
    "ytra = np.concatenate([ytra, new_labels])\n",
    "\n",
    "del new_samples, new_labels\n",
    "print('New number of training samples:', len(xtra))"
   ]
  },
  {
   "cell_type": "markdown",
   "metadata": {},
   "source": [
    "Use the simple normalization technique where we just divide each pixel value by `255`."
   ]
  },
  {
   "cell_type": "code",
   "execution_count": 5,
   "metadata": {
    "_kg_hide-input": true
   },
   "outputs": [
    {
     "name": "stdout",
     "output_type": "stream",
     "text": [
      "Training data shape: (5636, 224, 224, 3)\n",
      "Min value: 0.0\n",
      "Max value: 1.0\n"
     ]
    }
   ],
   "source": [
    "# Normalizing values\n",
    "xtra = xtra.astype('float32') / 255.\n",
    "xtest = xtest.astype('float32') / 255.\n",
    "xval = xval.astype('float32') / 255.\n",
    "\n",
    "print('Training data shape:', xtra.shape)\n",
    "print('Min value:', xtra.min())\n",
    "print('Max value:', xtra.max())"
   ]
  },
  {
   "cell_type": "markdown",
   "metadata": {},
   "source": [
    "## Building and training the model\n",
    "\n",
    "After this I build a CNN model in keras."
   ]
  },
  {
   "cell_type": "code",
   "execution_count": 6,
   "metadata": {
    "_kg_hide-input": true
   },
   "outputs": [
    {
     "name": "stdout",
     "output_type": "stream",
     "text": [
      "Downloading data from https://github.com/fchollet/deep-learning-models/releases/download/v0.1/vgg16_weights_tf_dim_ordering_tf_kernels_notop.h5\n",
      "58892288/58889256 [==============================] - 5s 0us/step\n",
      "_________________________________________________________________\n",
      "Layer (type)                 Output Shape              Param #   \n",
      "=================================================================\n",
      "vgg16 (Model)                (None, 7, 7, 512)         14714688  \n",
      "_________________________________________________________________\n",
      "flatten_1 (Flatten)          (None, 25088)             0         \n",
      "_________________________________________________________________\n",
      "dense_1 (Dense)              (None, 32)                802848    \n",
      "_________________________________________________________________\n",
      "leaky_re_lu_1 (LeakyReLU)    (None, 32)                0         \n",
      "_________________________________________________________________\n",
      "dense_2 (Dense)              (None, 16)                528       \n",
      "_________________________________________________________________\n",
      "leaky_re_lu_2 (LeakyReLU)    (None, 16)                0         \n",
      "_________________________________________________________________\n",
      "dense_3 (Dense)              (None, 1)                 17        \n",
      "=================================================================\n",
      "Total params: 15,518,081\n",
      "Trainable params: 803,393\n",
      "Non-trainable params: 14,714,688\n",
      "_________________________________________________________________\n"
     ]
    }
   ],
   "source": [
    "\"\"\"\n",
    "# the commented model\n",
    "# had 0.83 test accuracy\n",
    "\n",
    "model.add(Conv2D(32, (3, 3,), activation='relu', input_shape=(224, 224, 3,)))\n",
    "model.add(Conv2D(32, (3, 3,), activation='relu', padding='same'))\n",
    "model.add(MaxPooling2D((2, 2,)))\n",
    "model.add(Dropout(.25))\n",
    "model.add(Conv2D(64, (3, 3,), activation='relu', padding='same'))\n",
    "model.add(Conv2D(64, (3, 3,), activation='relu', padding='same'))\n",
    "model.add(MaxPooling2D((2, 2,)))\n",
    "model.add(Dropout(.4))\n",
    "model.add(Flatten())\n",
    "model.add(Dense(128, activation='relu'))\n",
    "model.add(Dropout(.5))\n",
    "model.add(Dense(1, activation='sigmoid'))\n",
    "\"\"\"\n",
    "\n",
    "# Build the model\n",
    "model = Sequential()\n",
    "\n",
    "model.add(VGG16(include_top=False, input_shape=(224, 224, 3,)))\n",
    "model.add(Flatten())\n",
    "model.add(Dense(32))\n",
    "model.add(LeakyReLU(0.001))\n",
    "model.add(Dense(16))\n",
    "model.add(LeakyReLU(0.001))\n",
    "model.add(Dense(1, activation='sigmoid'))\n",
    "model.layers[0].trainable = False\n",
    "\n",
    "model.compile(loss='binary_crossentropy', optimizer='adam', metrics=['acc'])\n",
    "model.summary()"
   ]
  },
  {
   "cell_type": "markdown",
   "metadata": {},
   "source": [
    "Now we can train the model."
   ]
  },
  {
   "cell_type": "code",
   "execution_count": 7,
   "metadata": {
    "_kg_hide-input": true
   },
   "outputs": [
    {
     "name": "stdout",
     "output_type": "stream",
     "text": [
      "Train on 5636 samples, validate on 149 samples\n",
      "Epoch 1/20\n",
      "5636/5636 [==============================] - 22s 4ms/step - loss: 0.4571 - acc: 0.7917 - val_loss: 0.3790 - val_acc: 0.8255\n",
      "Epoch 2/20\n",
      "5636/5636 [==============================] - 18s 3ms/step - loss: 0.3428 - acc: 0.8497 - val_loss: 0.3552 - val_acc: 0.8322\n",
      "Epoch 3/20\n",
      "5636/5636 [==============================] - 18s 3ms/step - loss: 0.2965 - acc: 0.8618 - val_loss: 0.3096 - val_acc: 0.8523\n",
      "Epoch 4/20\n",
      "5636/5636 [==============================] - 18s 3ms/step - loss: 0.2811 - acc: 0.8751 - val_loss: 0.3003 - val_acc: 0.8658\n",
      "Epoch 5/20\n",
      "5636/5636 [==============================] - 18s 3ms/step - loss: 0.2587 - acc: 0.8799 - val_loss: 0.3302 - val_acc: 0.8389\n",
      "Epoch 6/20\n",
      "5636/5636 [==============================] - 18s 3ms/step - loss: 0.2374 - acc: 0.8912 - val_loss: 0.3913 - val_acc: 0.8523\n",
      "Epoch 7/20\n",
      "5636/5636 [==============================] - 18s 3ms/step - loss: 0.2460 - acc: 0.8896 - val_loss: 0.2930 - val_acc: 0.8725\n",
      "Epoch 8/20\n",
      "5636/5636 [==============================] - 18s 3ms/step - loss: 0.1992 - acc: 0.9159 - val_loss: 0.3226 - val_acc: 0.8389\n",
      "Epoch 9/20\n",
      "5636/5636 [==============================] - 18s 3ms/step - loss: 0.1892 - acc: 0.9203 - val_loss: 0.3363 - val_acc: 0.8389\n",
      "Epoch 10/20\n",
      "5636/5636 [==============================] - 18s 3ms/step - loss: 0.1754 - acc: 0.9233 - val_loss: 0.3412 - val_acc: 0.8658\n",
      "Epoch 11/20\n",
      "5636/5636 [==============================] - 18s 3ms/step - loss: 0.1565 - acc: 0.9365 - val_loss: 0.3310 - val_acc: 0.8523\n",
      "Epoch 12/20\n",
      "5636/5636 [==============================] - 18s 3ms/step - loss: 0.1552 - acc: 0.9358 - val_loss: 0.3487 - val_acc: 0.8658\n",
      "Epoch 13/20\n",
      "5636/5636 [==============================] - 18s 3ms/step - loss: 0.1444 - acc: 0.9407 - val_loss: 0.4019 - val_acc: 0.7987\n",
      "Epoch 14/20\n",
      "5636/5636 [==============================] - 18s 3ms/step - loss: 0.1653 - acc: 0.9265 - val_loss: 0.4892 - val_acc: 0.7987\n",
      "Epoch 15/20\n",
      "5636/5636 [==============================] - 18s 3ms/step - loss: 0.1456 - acc: 0.9427 - val_loss: 0.3551 - val_acc: 0.8658\n",
      "Epoch 16/20\n",
      "5636/5636 [==============================] - 18s 3ms/step - loss: 0.1203 - acc: 0.9510 - val_loss: 0.4559 - val_acc: 0.8255\n",
      "Epoch 17/20\n",
      "5636/5636 [==============================] - 18s 3ms/step - loss: 0.1215 - acc: 0.9485 - val_loss: 0.4468 - val_acc: 0.8456\n",
      "Epoch 18/20\n",
      "5636/5636 [==============================] - 18s 3ms/step - loss: 0.1035 - acc: 0.9594 - val_loss: 0.4547 - val_acc: 0.8523\n",
      "Epoch 19/20\n",
      "5636/5636 [==============================] - 18s 3ms/step - loss: 0.0889 - acc: 0.9705 - val_loss: 0.4744 - val_acc: 0.8523\n",
      "Epoch 20/20\n",
      "5636/5636 [==============================] - 18s 3ms/step - loss: 0.0778 - acc: 0.9732 - val_loss: 0.4804 - val_acc: 0.8658\n"
     ]
    }
   ],
   "source": [
    "# Train the model\n",
    "N_EPOCHS = 20\n",
    "h = model.fit(xtra, ytra, validation_data=(xval, yval), epochs=N_EPOCHS, batch_size=64)"
   ]
  },
  {
   "cell_type": "markdown",
   "metadata": {},
   "source": [
    "Visualizing the accuracy and losses to check if the model is overfit."
   ]
  },
  {
   "cell_type": "code",
   "execution_count": 8,
   "metadata": {
    "_kg_hide-input": true
   },
   "outputs": [
    {
     "data": {
      "image/png": "[encoded data removed]",
      "text/plain": [
       "<Figure size 1080x576 with 1 Axes>"
      ]
     },
     "metadata": {
      "needs_background": "light"
     },
     "output_type": "display_data"
    },
    {
     "data": {
      "image/png": "[encoded data removed]",
      "text/plain": [
       "<Figure size 1080x576 with 1 Axes>"
      ]
     },
     "metadata": {
      "needs_background": "light"
     },
     "output_type": "display_data"
    }
   ],
   "source": [
    "# Plotting accuracy history\n",
    "plt.figure(figsize=(15, 8))\n",
    "plt.scatter(range(N_EPOCHS), h.history['acc'], marker='x', label='Training accuracy');\n",
    "plt.plot(range(N_EPOCHS), h.history['val_acc'], color='green', label='Validation accuracy');\n",
    "plt.legend();\n",
    "plt.title('Accuracy');\n",
    "\n",
    "# Plotting loss history\n",
    "plt.figure(figsize=(15, 8))\n",
    "plt.scatter(range(N_EPOCHS), h.history['loss'], marker='x', label='Training loss');\n",
    "plt.plot(range(N_EPOCHS), h.history['val_loss'], color='green', label='Validation loss');\n",
    "plt.legend();\n",
    "plt.title('Loss');"
   ]
  },
  {
   "cell_type": "markdown",
   "metadata": {},
   "source": [
    "Evaluate the model on test data to double check it's accuracy, and save it to this kernel."
   ]
  },
  {
   "cell_type": "code",
   "execution_count": 9,
   "metadata": {
    "_kg_hide-input": true
   },
   "outputs": [
    {
     "name": "stdout",
     "output_type": "stream",
     "text": [
      "330/330 [==============================] - 2s 6ms/step\n",
      "Accuracy on test set: 0.8969696973309372\n"
     ]
    }
   ],
   "source": [
    "print('Accuracy on test set:', model.evaluate(xtest, ytest)[1])\n",
    "model.save('model.h5')"
   ]
  }
 ],
 "metadata": {
  "kernelspec": {
   "display_name": "Python 3",
   "language": "python",
   "name": "python3"
  },
  "language_info": {
   "codemirror_mode": {
    "name": "ipython",
    "version": 3
   },
   "file_extension": ".py",
   "mimetype": "text/x-python",
   "name": "python",
   "nbconvert_exporter": "python",
   "pygments_lexer": "ipython3",
   "version": "3.6.8"
  }
 },
 "nbformat": 4,
 "nbformat_minor": 1
}
