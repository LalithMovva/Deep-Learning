{
 "cells": [
  {
   "cell_type": "code",
   "execution_count": 1,
   "metadata": {},
   "outputs": [],
   "source": [
    "import numpy as np   #importing numpy package for initialising the arrays to zeros\n",
    "import pandas as pd"
   ]
  },
  {
   "cell_type": "code",
   "execution_count": 2,
   "metadata": {},
   "outputs": [
    {
     "name": "stdout",
     "output_type": "stream",
     "text": [
      "Enter number of sensors: 101\n"
     ]
    }
   ],
   "source": [
    "n = int(input(\"Enter number of sensors: \"))  #number of sensors"
   ]
  },
  {
   "cell_type": "code",
   "execution_count": 3,
   "metadata": {},
   "outputs": [
    {
     "name": "stdout",
     "output_type": "stream",
     "text": [
      "Enter the value of p: 0.4\n"
     ]
    }
   ],
   "source": [
    "p = float(input(\"Enter the value of p: \"))   #probability"
   ]
  },
  {
   "cell_type": "code",
   "execution_count": 4,
   "metadata": {},
   "outputs": [
    {
     "name": "stdout",
     "output_type": "stream",
     "text": [
      "Enter the value of k: 3\n"
     ]
    }
   ],
   "source": [
    "k = int(input(\"Enter the value of k: \"))  #number of neighbor sensors"
   ]
  },
  {
   "cell_type": "code",
   "execution_count": 5,
   "metadata": {},
   "outputs": [
    {
     "name": "stdout",
     "output_type": "stream",
     "text": [
      "Enter the value of theta1: 2\n"
     ]
    }
   ],
   "source": [
    "theta1 = float(input(\"Enter the value of theta1: \"))  #theta1 value"
   ]
  },
  {
   "cell_type": "code",
   "execution_count": 6,
   "metadata": {},
   "outputs": [
    {
     "name": "stdout",
     "output_type": "stream",
     "text": [
      "Enter the value of theta2: 1\n"
     ]
    }
   ],
   "source": [
    "theta2 = float(input(\"Enter the value of theta2: \"))   #theta2 value"
   ]
  },
  {
   "cell_type": "code",
   "execution_count": 7,
   "metadata": {},
   "outputs": [],
   "source": [
    "dat = pd.read_csv('C:/Users/LALITH/Downloads/2.csv', engine='python',names=['t','t1'])"
   ]
  },
  {
   "cell_type": "code",
   "execution_count": 8,
   "metadata": {},
   "outputs": [],
   "source": [
    "st = dat['t'].to_numpy()"
   ]
  },
  {
   "cell_type": "code",
   "execution_count": 9,
   "metadata": {},
   "outputs": [],
   "source": [
    "dt = np.zeros((int(n-1),int(n-1)))\n",
    "for i in range(len(dt[0])):\n",
    "    for j in range(len(dt[0])):\n",
    "        dt[i][j] = abs(st[i] - st[j])    "
   ]
  },
  {
   "cell_type": "code",
   "execution_count": 10,
   "metadata": {},
   "outputs": [],
   "source": [
    "st1 = dat['t1'].to_numpy()"
   ]
  },
  {
   "cell_type": "code",
   "execution_count": 11,
   "metadata": {},
   "outputs": [
    {
     "data": {
      "text/plain": [
       "101"
      ]
     },
     "execution_count": 11,
     "metadata": {},
     "output_type": "execute_result"
    }
   ],
   "source": [
    "len(st)"
   ]
  },
  {
   "cell_type": "code",
   "execution_count": 12,
   "metadata": {},
   "outputs": [],
   "source": [
    "dt1 = np.zeros((int(n-1),int(n-1)))\n",
    "for i in range(len(dt1[0])):\n",
    "    for j in range(len(dt1[0])):\n",
    "        dt1[i][j] = abs(st1[i] - st1[j])            # calculating the difference between the positions"
   ]
  },
  {
   "cell_type": "code",
   "execution_count": 13,
   "metadata": {},
   "outputs": [
    {
     "data": {
      "text/plain": [
       "array([[  0.,  72., 101., ..., 222., 101.,  86.],\n",
       "       [ 72.,   0.,  29., ..., 150.,  29.,  14.],\n",
       "       [101.,  29.,   0., ..., 121.,   0.,  15.],\n",
       "       ...,\n",
       "       [222., 150., 121., ...,   0., 121., 136.],\n",
       "       [101.,  29.,   0., ..., 121.,   0.,  15.],\n",
       "       [ 86.,  14.,  15., ..., 136.,  15.,   0.]])"
      ]
     },
     "execution_count": 13,
     "metadata": {},
     "output_type": "execute_result"
    }
   ],
   "source": [
    "dt1  #distance matrix at time t+1"
   ]
  },
  {
   "cell_type": "code",
   "execution_count": 14,
   "metadata": {},
   "outputs": [
    {
     "data": {
      "text/plain": [
       "array([[   0.,  -74.,   30., ...,  131.,   77.,  -56.],\n",
       "       [ -74.,    0.,  -46., ...,   95.,  -93.,   10.],\n",
       "       [  30.,  -46.,    0., ...,  101.,  -47.,  -56.],\n",
       "       ...,\n",
       "       [ 131.,   95.,  101., ...,    0.,   54.,   85.],\n",
       "       [  77.,  -93.,  -47., ...,   54.,    0., -103.],\n",
       "       [ -56.,   10.,  -56., ...,   85., -103.,    0.]])"
      ]
     },
     "execution_count": 14,
     "metadata": {},
     "output_type": "execute_result"
    }
   ],
   "source": [
    "deltad = dt1 - dt\n",
    "deltad                  #value of delta d, which is the difference of the distances at time t and time t+1{(xi(t+1)-xj(t+1)) - (xi(t)-xj(t))}"
   ]
  },
  {
   "cell_type": "code",
   "execution_count": 15,
   "metadata": {},
   "outputs": [],
   "source": [
    "c = np.zeros((int(n), int(n)))   #initialising the c to zeros"
   ]
  },
  {
   "cell_type": "code",
   "execution_count": 16,
   "metadata": {},
   "outputs": [],
   "source": [
    "for i in range(len(dt[0])):\n",
    "    for j in range(len(dt[0])):\n",
    "        if dt[i][j] > theta1:\n",
    "            if deltad[i][j] > theta2:\n",
    "                c[i][j] = 1            # assigning value 1 to c when these conditions are satisfied"
   ]
  },
  {
   "cell_type": "code",
   "execution_count": 17,
   "metadata": {},
   "outputs": [
    {
     "data": {
      "text/plain": [
       "array([[0., 0., 1., ..., 1., 0., 0.],\n",
       "       [0., 0., 0., ..., 0., 1., 0.],\n",
       "       [1., 0., 0., ..., 0., 0., 0.],\n",
       "       ...,\n",
       "       [1., 0., 0., ..., 0., 0., 0.],\n",
       "       [0., 1., 0., ..., 0., 0., 0.],\n",
       "       [0., 0., 0., ..., 0., 0., 0.]])"
      ]
     },
     "execution_count": 17,
     "metadata": {},
     "output_type": "execute_result"
    }
   ],
   "source": [
    "c"
   ]
  },
  {
   "cell_type": "code",
   "execution_count": null,
   "metadata": {},
   "outputs": [],
   "source": []
  },
  {
   "cell_type": "code",
   "execution_count": 18,
   "metadata": {
    "scrolled": true
   },
   "outputs": [],
   "source": [
    "if k%2==0:\n",
    "    m = (k/2) + 1\n",
    "else:\n",
    "    m = (k+1)/2        #calculating the value of m when k is even and when k is odd"
   ]
  },
  {
   "cell_type": "code",
   "execution_count": 19,
   "metadata": {},
   "outputs": [],
   "source": [
    "tflf = 0\n",
    "for i in range(0,int(m)):\n",
    "    tflf = tflf + c[i][k]*((1-p)**(k-i))*(p**i)"
   ]
  },
  {
   "cell_type": "code",
   "execution_count": 20,
   "metadata": {},
   "outputs": [
    {
     "data": {
      "text/plain": [
       "0.144"
      ]
     },
     "execution_count": 20,
     "metadata": {},
     "output_type": "execute_result"
    }
   ],
   "source": [
    "pflf = p*tflf                     #calculation of pflf formula\n",
    "pflf"
   ]
  },
  {
   "cell_type": "code",
   "execution_count": 21,
   "metadata": {},
   "outputs": [],
   "source": [
    "tglf = 0\n",
    "for j in range(0,int(m)):\n",
    "    tglf = tglf + c[j][k]*((1-p)**j)*(p**(k-j))"
   ]
  },
  {
   "cell_type": "code",
   "execution_count": 22,
   "metadata": {},
   "outputs": [
    {
     "data": {
      "text/plain": [
       "0.09600000000000002"
      ]
     },
     "execution_count": 22,
     "metadata": {},
     "output_type": "execute_result"
    }
   ],
   "source": [
    "pglf = (1-p)*tglf               #calculation of pglf formula\n",
    "pglf                  "
   ]
  },
  {
   "cell_type": "code",
   "execution_count": 23,
   "metadata": {},
   "outputs": [],
   "source": [
    "tflg = 0\n",
    "for j in range(0,int(m)):\n",
    "    tflg = tflg + c[j][k]*((1-p)**j)*(p**(k-j))"
   ]
  },
  {
   "cell_type": "code",
   "execution_count": 24,
   "metadata": {},
   "outputs": [
    {
     "data": {
      "text/plain": [
       "0.06400000000000002"
      ]
     },
     "execution_count": 24,
     "metadata": {},
     "output_type": "execute_result"
    }
   ],
   "source": [
    "pflg = p*tflg                   #calculation of pflg formula\n",
    "pflg"
   ]
  },
  {
   "cell_type": "code",
   "execution_count": 25,
   "metadata": {},
   "outputs": [],
   "source": [
    "tglg = 0\n",
    "for i in range(0,int(m)):\n",
    "    tglg = tglg + c[i][k] * ((1-p)**(k-i)) * (p**i)"
   ]
  },
  {
   "cell_type": "code",
   "execution_count": 26,
   "metadata": {},
   "outputs": [
    {
     "data": {
      "text/plain": [
       "0.216"
      ]
     },
     "execution_count": 26,
     "metadata": {},
     "output_type": "execute_result"
    }
   ],
   "source": [
    "pglg = (1-p)*tglg                #calculation of pglg formula\n",
    "pglg "
   ]
  },
  {
   "cell_type": "code",
   "execution_count": 41,
   "metadata": {},
   "outputs": [],
   "source": [
    "tfg = 0\n",
    "tfg1 = 0\n",
    "tfg2 = 0\n",
    "\n",
    "for x in range(1,k+1):\n",
    "    if x%2==0:\n",
    "        n = (x/2) + 1\n",
    "    else:\n",
    "        n = (x+1)/2\n",
    "    for y in range(0,int(n)):\n",
    "        \n",
    "        tfg1 = tfg1 + c[y][x] * (pglg**y) * (pflg**(x-y))\n",
    "    for a in range(0,k-x+1):\n",
    "    \n",
    "        tfg2 = tfg2 + c[a][k-x] * (pglf**a) * (pflf**(k-x-a))\n",
    "        \n",
    "    tfg = tfg + c[x][k] * tfg1 * tfg2\n",
    "\n",
    "    \n",
    "tfg3 = 0\n",
    "for a in range(0,k+1):\n",
    "    \n",
    "    tfg3 = tfg3 + c[a][k] * (pglf**a) * (pflf**(k-a))"
   ]
  },
  {
   "cell_type": "code",
   "execution_count": 42,
   "metadata": {},
   "outputs": [
    {
     "data": {
      "text/plain": [
       "0.0004374134784000001"
      ]
     },
     "execution_count": 42,
     "metadata": {},
     "output_type": "execute_result"
    }
   ],
   "source": [
    "pfg = (p * tfg) + (pflg * tfg3)    #calculation of pfg formula\n",
    "pfg\n"
   ]
  },
  {
   "cell_type": "code",
   "execution_count": 43,
   "metadata": {},
   "outputs": [],
   "source": [
    "tgf = 0\n",
    "tgf1 = 0\n",
    "tgf2 = 0\n",
    "\n",
    "for x in range(1,k+1):\n",
    "    if x%2==0:\n",
    "        n = (x/2) + 1\n",
    "    else:\n",
    "        n = (x+1)/2\n",
    "    for y in range(0,int(n)):\n",
    "        \n",
    "        tgf1 = tgf1 + c[y][x] * (pglg**y) * (pflg**(x-y))\n",
    "    for a in range(0,k-x+1):\n",
    "        \n",
    "        tgf2 = tgf2 + c[a][k-x] * (pglf**a) * (pflf**(k-x-a))\n",
    "        \n",
    "    tgf = tgf + c[x][k] * tgf1 * tgf2\n",
    "\n",
    "    \n",
    "tgf3 = 0\n",
    "for a in range(0,k+1):\n",
    "    \n",
    "    tgf3 = tgf3 + c[a][k] * (pglf**a) * (pflf**(k-a))"
   ]
  },
  {
   "cell_type": "code",
   "execution_count": 44,
   "metadata": {},
   "outputs": [
    {
     "data": {
      "text/plain": [
       "0.0006561202176000001"
      ]
     },
     "execution_count": 44,
     "metadata": {},
     "output_type": "execute_result"
    }
   ],
   "source": [
    "pgf = ((1-p) * tfg) + (pglf * tfg3)            #calculation of pgf formula\n",
    "pgf"
   ]
  },
  {
   "cell_type": "code",
   "execution_count": 45,
   "metadata": {},
   "outputs": [],
   "source": [
    "tgg = 0\n",
    "tgg1 = 0\n",
    "tgg2 = 0\n",
    "\n",
    "for x in range(1,k+1):\n",
    "    if x%2==0:\n",
    "        n = (x/2) + 1\n",
    "    else:\n",
    "        n = (x+1)/2\n",
    "    for z in range(0,int(n)):\n",
    "        \n",
    "        tgg1 = tgg1 + c[z][x] * (pglg**y) * (pflg**(x-y))\n",
    "    for a in range(0,k-x+1):\n",
    "        \n",
    "        tgg2 = tgg2 + c[a][k-x] * (pglf**a) * (pflf**(k-x-a))\n",
    "        \n",
    "    tgg = tgg + c[x][k] * tgg1 * tgg2\n",
    "\n",
    "    \n",
    "tgg3 = 0\n",
    "for a in range(0,k+1):\n",
    "    \n",
    "    tgg3 = tgg3 + c[a][k] * (pglf**a) * (pflf**(k-a))"
   ]
  },
  {
   "cell_type": "code",
   "execution_count": 46,
   "metadata": {},
   "outputs": [
    {
     "data": {
      "text/plain": [
       "0.0014125694976"
      ]
     },
     "execution_count": 46,
     "metadata": {},
     "output_type": "execute_result"
    }
   ],
   "source": [
    "pgg = ((1-p) * tfg) + (pglg * tfg3)                #calculation of pgg formula\n",
    "pgg"
   ]
  },
  {
   "cell_type": "code",
   "execution_count": 47,
   "metadata": {},
   "outputs": [],
   "source": [
    "tff = 0\n",
    "tff1 = 0\n",
    "tff2 = 0\n",
    "\n",
    "for x in range(1,k+1):\n",
    "    if x%2==0:\n",
    "        n = (x/2) + 1\n",
    "    else:\n",
    "        n = (x+1)/2\n",
    "    for z in range(0,int(n)):\n",
    "        \n",
    "        tff1 = tff1 + c[z] * (pglg**(x-z)) * (pflg**z)\n",
    "    for a in range(0,k-x+1):\n",
    "        \n",
    "        tff2 = tff2 + c[a] * (pglf**a) * (pflf**(k-x-a))\n",
    "        \n",
    "    tff = tff + c[x] * tff1 * tff2\n",
    "\n",
    "    \n",
    "tff3 = 0\n",
    "for a in range(0,k+1):\n",
    "    \n",
    "    tff3 = tff3 + c[a] * (pglf**a) * (pflf**(k-a))"
   ]
  },
  {
   "cell_type": "code",
   "execution_count": 48,
   "metadata": {},
   "outputs": [
    {
     "data": {
      "text/plain": [
       "0.0009417129984"
      ]
     },
     "execution_count": 48,
     "metadata": {},
     "output_type": "execute_result"
    }
   ],
   "source": [
    "pff = (p * tfg) + (pflf * tfg3)               #calculation of pff formula\n",
    "pff"
   ]
  },
  {
   "cell_type": "code",
   "execution_count": 49,
   "metadata": {},
   "outputs": [],
   "source": [
    "pewfs = pgg + pfg + pgf + pff                 #calculation of pewfs formula"
   ]
  },
  {
   "cell_type": "code",
   "execution_count": 50,
   "metadata": {},
   "outputs": [
    {
     "data": {
      "text/plain": [
       "0.0034478161920000003"
      ]
     },
     "execution_count": 50,
     "metadata": {},
     "output_type": "execute_result"
    }
   ],
   "source": [
    "pewfs\n"
   ]
  },
  {
   "cell_type": "code",
   "execution_count": 37,
   "metadata": {},
   "outputs": [],
   "source": [
    "import pandas as pd"
   ]
  },
  {
   "cell_type": "code",
   "execution_count": 51,
   "metadata": {},
   "outputs": [],
   "source": [
    "df = pd.DataFrame({'Improved_DFD_Algorithm':[0.967,0.995,0.998,1], 'Average_number_of_neighbor_nodes':[5,10,15,20], 'DFD_Algorithm':[0.89,0.93,0.94,0.95]})"
   ]
  },
  {
   "cell_type": "code",
   "execution_count": 52,
   "metadata": {},
   "outputs": [
    {
     "data": {
      "image/png": "[encoded data removed]",
      "text/plain": [
       "<Figure size 432x288 with 1 Axes>"
      ]
     },
     "metadata": {
      "needs_background": "light"
     },
     "output_type": "display_data"
    }
   ],
   "source": [
    "ax = df[['Average_number_of_neighbor_nodes', 'Improved_DFD_Algorithm', 'DFD_Algorithm']].plot(x='Average_number_of_neighbor_nodes', kind='bar',color=[\"b\",\"y\"],rot=45)\n"
   ]
  },
  {
   "cell_type": "code",
   "execution_count": 53,
   "metadata": {},
   "outputs": [
    {
     "data": {
      "text/plain": [
       "<matplotlib.axes._subplots.AxesSubplot at 0x1f3587da4e0>"
      ]
     },
     "execution_count": 53,
     "metadata": {},
     "output_type": "execute_result"
    }
   ],
   "source": [
    "ax"
   ]
  },
  {
   "cell_type": "code",
   "execution_count": 1,
   "metadata": {},
   "outputs": [],
   "source": [
    "import matplotlib.pyplot as plt"
   ]
  },
  {
   "cell_type": "code",
   "execution_count": 2,
   "metadata": {},
   "outputs": [
    {
     "data": {
      "text/plain": [
       "<matplotlib.legend.Legend at 0x2969e928f98>"
      ]
     },
     "execution_count": 2,
     "metadata": {},
     "output_type": "execute_result"
    },
    {
     "data": {
      "image/png": "[encoded data removed]",
      "text/plain": [
       "<Figure size 432x288 with 1 Axes>"
      ]
     },
     "metadata": {
      "needs_background": "light"
     },
     "output_type": "display_data"
    }
   ],
   "source": [
    "plt.plot([0,0.15,0.2,0.25,0.3],[1.0,0.985,0.955,0.945,0.92],'-b',marker='o', label='DFD ALGORITHM') #x-axis points, y-axis points, color, marker to highlight coordinates, labeling for marking legend\n",
    "plt.plot([0,0.15,0.2,0.25,0.3],[1.0,1.0,1.0,0.985,0.98],'-g',marker='o',label='IMPROVED DFD')\n",
    "plt.xlabel(\"GIVEN PROBABILITY\")#x-label\n",
    "plt.ylabel(\"OUTPUT PROBABILITY\")#y-label\n",
    "plt.legend()"
   ]
  },
  {
   "cell_type": "code",
   "execution_count": null,
   "metadata": {},
   "outputs": [],
   "source": []
  }
 ],
 "metadata": {
  "kernelspec": {
   "display_name": "Python 3",
   "language": "python",
   "name": "python3"
  },
  "language_info": {
   "codemirror_mode": {
    "name": "ipython",
    "version": 3
   },
   "file_extension": ".py",
   "mimetype": "text/x-python",
   "name": "python",
   "nbconvert_exporter": "python",
   "pygments_lexer": "ipython3",
   "version": "3.6.8"
  }
 },
 "nbformat": 4,
 "nbformat_minor": 2
}
