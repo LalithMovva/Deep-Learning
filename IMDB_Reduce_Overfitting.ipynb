{
  "nbformat": 4,
  "nbformat_minor": 0,
  "metadata": {
    "colab": {
      "name": "IMDB_Reduce_Overfitting.ipynb",
      "provenance": [],
      "collapsed_sections": []
    },
    "kernelspec": {
      "name": "python3",
      "display_name": "Python 3"
    },
    "accelerator": "GPU"
  },
  "cells": [
    {
      "cell_type": "code",
      "metadata": {
        "id": "zVPz8OKJv1Ob",
        "colab_type": "code",
        "colab": {}
      },
      "source": [
        "import tensorflow as tf\n",
        "import numpy as np"
      ],
      "execution_count": 0,
      "outputs": []
    },
    {
      "cell_type": "code",
      "metadata": {
        "id": "1m_emtb7wBxQ",
        "colab_type": "code",
        "colab": {}
      },
      "source": [
        "NUM_WORDS = 10000\n",
        "\n",
        "(train_data, train_labels), (test_data, test_labels) = tf.keras.datasets.imdb.load_data(num_words=NUM_WORDS)\n",
        "\n",
        "def multi_hot_sequences(sequences, dimension):\n",
        "    # Create an all-zero matrix of shape (len(sequences), dimension)\n",
        "    results = np.zeros((len(sequences), dimension))\n",
        "    for i, word_indices in enumerate(sequences):\n",
        "        results[i, word_indices] = 1.0  # set specific indices of results[i] to 1s\n",
        "    return results\n",
        "\n",
        "\n",
        "train_data = multi_hot_sequences(train_data, dimension=NUM_WORDS)\n",
        "test_data = multi_hot_sequences(test_data, dimension=NUM_WORDS)"
      ],
      "execution_count": 0,
      "outputs": []
    },
    {
      "cell_type": "code",
      "metadata": {
        "id": "jkTWbYMVzPmw",
        "colab_type": "code",
        "colab": {
          "base_uri": "https://localhost:8080/",
          "height": 853
        },
        "outputId": "047c26a4-d086-4ea7-a5f2-72f282934726"
      },
      "source": [
        "model1 = tf.keras.models.Sequential([\n",
        "    tf.keras.layers.Dense(16, activation='relu'),\n",
        "    tf.keras.layers.Dense(16, activation='relu'),\n",
        "    tf.keras.layers.Dense(1, activation='sigmoid')\n",
        "])\n",
        "\n",
        "model1.compile(loss='binary_crossentropy', optimizer='adam', metrics=['accuracy'])\n",
        "model1.fit(train_data, train_labels, epochs = 20, validation_data = (test_data, test_labels))"
      ],
      "execution_count": 11,
      "outputs": [
        {
          "output_type": "stream",
          "text": [
            "WARNING:tensorflow:From /usr/local/lib/python3.6/dist-packages/tensorflow_core/python/ops/resource_variable_ops.py:1630: calling BaseResourceVariable.__init__ (from tensorflow.python.ops.resource_variable_ops) with constraint is deprecated and will be removed in a future version.\n",
            "Instructions for updating:\n",
            "If using Keras pass *_constraint arguments to layers.\n",
            "WARNING:tensorflow:From /usr/local/lib/python3.6/dist-packages/tensorflow_core/python/ops/nn_impl.py:183: where (from tensorflow.python.ops.array_ops) is deprecated and will be removed in a future version.\n",
            "Instructions for updating:\n",
            "Use tf.where in 2.0, which has the same broadcast rule as np.where\n",
            "Train on 25000 samples, validate on 25000 samples\n",
            "Epoch 1/20\n",
            "25000/25000 [==============================] - 7s 277us/sample - loss: 0.3289 - acc: 0.8632 - val_loss: 0.2992 - val_acc: 0.8792\n",
            "Epoch 2/20\n",
            "25000/25000 [==============================] - 6s 248us/sample - loss: 0.1873 - acc: 0.9281 - val_loss: 0.3185 - val_acc: 0.8720\n",
            "Epoch 3/20\n",
            "25000/25000 [==============================] - 6s 250us/sample - loss: 0.1326 - acc: 0.9516 - val_loss: 0.3692 - val_acc: 0.8674\n",
            "Epoch 4/20\n",
            "25000/25000 [==============================] - 6s 250us/sample - loss: 0.0859 - acc: 0.9697 - val_loss: 0.4634 - val_acc: 0.8618\n",
            "Epoch 5/20\n",
            "25000/25000 [==============================] - 6s 251us/sample - loss: 0.0462 - acc: 0.9850 - val_loss: 0.5845 - val_acc: 0.8568\n",
            "Epoch 6/20\n",
            "25000/25000 [==============================] - 6s 252us/sample - loss: 0.0248 - acc: 0.9926 - val_loss: 0.6860 - val_acc: 0.8546\n",
            "Epoch 7/20\n",
            "25000/25000 [==============================] - 6s 253us/sample - loss: 0.0149 - acc: 0.9952 - val_loss: 0.9242 - val_acc: 0.8507\n",
            "Epoch 8/20\n",
            "25000/25000 [==============================] - 6s 252us/sample - loss: 0.0148 - acc: 0.9954 - val_loss: 0.9650 - val_acc: 0.8532\n",
            "Epoch 9/20\n",
            "25000/25000 [==============================] - 6s 250us/sample - loss: 0.0125 - acc: 0.9960 - val_loss: 1.0361 - val_acc: 0.8507\n",
            "Epoch 10/20\n",
            "25000/25000 [==============================] - 6s 250us/sample - loss: 0.0100 - acc: 0.9970 - val_loss: 0.9800 - val_acc: 0.8508\n",
            "Epoch 11/20\n",
            "25000/25000 [==============================] - 6s 246us/sample - loss: 0.0073 - acc: 0.9977 - val_loss: 1.1497 - val_acc: 0.8516\n",
            "Epoch 12/20\n",
            "25000/25000 [==============================] - 6s 244us/sample - loss: 0.0045 - acc: 0.9989 - val_loss: 1.2184 - val_acc: 0.8537\n",
            "Epoch 13/20\n",
            "25000/25000 [==============================] - 6s 247us/sample - loss: 0.0029 - acc: 0.9993 - val_loss: 1.2892 - val_acc: 0.8502\n",
            "Epoch 14/20\n",
            "25000/25000 [==============================] - 6s 249us/sample - loss: 0.0061 - acc: 0.9980 - val_loss: 1.2481 - val_acc: 0.8524\n",
            "Epoch 15/20\n",
            "25000/25000 [==============================] - 6s 255us/sample - loss: 0.0069 - acc: 0.9978 - val_loss: 1.3037 - val_acc: 0.8551\n",
            "Epoch 16/20\n",
            "25000/25000 [==============================] - 6s 258us/sample - loss: 0.0043 - acc: 0.9990 - val_loss: 1.2682 - val_acc: 0.8382\n",
            "Epoch 17/20\n",
            "25000/25000 [==============================] - 6s 255us/sample - loss: 0.0032 - acc: 0.9993 - val_loss: 1.4094 - val_acc: 0.8526\n",
            "Epoch 18/20\n",
            "25000/25000 [==============================] - 6s 249us/sample - loss: 0.0010 - acc: 0.9996 - val_loss: 1.5201 - val_acc: 0.8518\n",
            "Epoch 19/20\n",
            "25000/25000 [==============================] - 6s 247us/sample - loss: 2.2509e-04 - acc: 1.0000 - val_loss: 1.5849 - val_acc: 0.8534\n",
            "Epoch 20/20\n",
            "25000/25000 [==============================] - 6s 246us/sample - loss: 6.0243e-05 - acc: 1.0000 - val_loss: 1.6278 - val_acc: 0.8531\n"
          ],
          "name": "stdout"
        },
        {
          "output_type": "execute_result",
          "data": {
            "text/plain": [
              "<tensorflow.python.keras.callbacks.History at 0x7f4a9f081d30>"
            ]
          },
          "metadata": {
            "tags": []
          },
          "execution_count": 11
        }
      ]
    },
    {
      "cell_type": "code",
      "metadata": {
        "id": "ABECdc_w1zSb",
        "colab_type": "code",
        "colab": {
          "base_uri": "https://localhost:8080/",
          "height": 731
        },
        "outputId": "ccb592a0-220c-40e3-fd80-2bda8519061f"
      },
      "source": [
        "model2 = tf.keras.models.Sequential([\n",
        "    tf.keras.layers.Dense(4, activation='relu'),\n",
        "    tf.keras.layers.Dense(4, activation='relu'),\n",
        "    tf.keras.layers.Dense(1, activation='sigmoid')\n",
        "])\n",
        "model2.compile(loss='binary_crossentropy', optimizer='adam', metrics=['accuracy'])\n",
        "model2.fit(train_data, train_labels, epochs = 20, validation_data = (test_data, test_labels))"
      ],
      "execution_count": 12,
      "outputs": [
        {
          "output_type": "stream",
          "text": [
            "Train on 25000 samples, validate on 25000 samples\n",
            "Epoch 1/20\n",
            "25000/25000 [==============================] - 6s 250us/sample - loss: 0.4336 - acc: 0.8355 - val_loss: 0.3370 - val_acc: 0.8726\n",
            "Epoch 2/20\n",
            "25000/25000 [==============================] - 6s 248us/sample - loss: 0.2223 - acc: 0.9244 - val_loss: 0.3197 - val_acc: 0.8737\n",
            "Epoch 3/20\n",
            "25000/25000 [==============================] - 6s 249us/sample - loss: 0.1488 - acc: 0.9499 - val_loss: 0.3726 - val_acc: 0.8634\n",
            "Epoch 4/20\n",
            "25000/25000 [==============================] - 6s 249us/sample - loss: 0.1049 - acc: 0.9676 - val_loss: 0.4262 - val_acc: 0.8611\n",
            "Epoch 5/20\n",
            "25000/25000 [==============================] - 6s 247us/sample - loss: 0.0767 - acc: 0.9776 - val_loss: 0.4938 - val_acc: 0.8627\n",
            "Epoch 6/20\n",
            "25000/25000 [==============================] - 6s 245us/sample - loss: 0.0539 - acc: 0.9858 - val_loss: 0.5726 - val_acc: 0.8594\n",
            "Epoch 7/20\n",
            "25000/25000 [==============================] - 6s 258us/sample - loss: 0.0387 - acc: 0.9914 - val_loss: 0.6163 - val_acc: 0.8562\n",
            "Epoch 8/20\n",
            "25000/25000 [==============================] - 6s 248us/sample - loss: 0.0305 - acc: 0.9940 - val_loss: 0.6679 - val_acc: 0.8536\n",
            "Epoch 9/20\n",
            "25000/25000 [==============================] - 6s 248us/sample - loss: 0.0282 - acc: 0.9942 - val_loss: 0.7200 - val_acc: 0.8521\n",
            "Epoch 10/20\n",
            "25000/25000 [==============================] - 6s 248us/sample - loss: 0.0297 - acc: 0.9932 - val_loss: 0.7836 - val_acc: 0.8508\n",
            "Epoch 11/20\n",
            "25000/25000 [==============================] - 6s 247us/sample - loss: 0.0259 - acc: 0.9944 - val_loss: 0.8126 - val_acc: 0.8506\n",
            "Epoch 12/20\n",
            "25000/25000 [==============================] - 6s 247us/sample - loss: 0.0246 - acc: 0.9945 - val_loss: 0.8098 - val_acc: 0.8472\n",
            "Epoch 13/20\n",
            "25000/25000 [==============================] - 6s 247us/sample - loss: 0.0230 - acc: 0.9954 - val_loss: 0.8894 - val_acc: 0.8516\n",
            "Epoch 14/20\n",
            "25000/25000 [==============================] - 6s 248us/sample - loss: 0.0193 - acc: 0.9968 - val_loss: 0.9956 - val_acc: 0.8541\n",
            "Epoch 15/20\n",
            "25000/25000 [==============================] - 6s 248us/sample - loss: 0.0170 - acc: 0.9974 - val_loss: 0.9392 - val_acc: 0.8534\n",
            "Epoch 16/20\n",
            "25000/25000 [==============================] - 6s 244us/sample - loss: 0.0163 - acc: 0.9974 - val_loss: 0.9773 - val_acc: 0.8544\n",
            "Epoch 17/20\n",
            "25000/25000 [==============================] - 6s 248us/sample - loss: 0.0162 - acc: 0.9974 - val_loss: 0.9763 - val_acc: 0.8534\n",
            "Epoch 18/20\n",
            "25000/25000 [==============================] - 6s 245us/sample - loss: 0.0162 - acc: 0.9974 - val_loss: 0.9928 - val_acc: 0.8540\n",
            "Epoch 19/20\n",
            "25000/25000 [==============================] - 6s 250us/sample - loss: 0.0161 - acc: 0.9974 - val_loss: 1.0204 - val_acc: 0.8546\n",
            "Epoch 20/20\n",
            "25000/25000 [==============================] - 6s 246us/sample - loss: 0.0161 - acc: 0.9974 - val_loss: 1.0515 - val_acc: 0.8543\n"
          ],
          "name": "stdout"
        },
        {
          "output_type": "execute_result",
          "data": {
            "text/plain": [
              "<tensorflow.python.keras.callbacks.History at 0x7f4a9dc35cf8>"
            ]
          },
          "metadata": {
            "tags": []
          },
          "execution_count": 12
        }
      ]
    },
    {
      "cell_type": "code",
      "metadata": {
        "id": "lCCsxqc_3D-Q",
        "colab_type": "code",
        "colab": {
          "base_uri": "https://localhost:8080/",
          "height": 731
        },
        "outputId": "e1cf2a95-56f8-4795-8317-a6d09e994251"
      },
      "source": [
        "model3 = tf.keras.models.Sequential([\n",
        "    tf.keras.layers.Dense(512, activation='relu'),\n",
        "    tf.keras.layers.Dense(512, activation='relu'),\n",
        "    tf.keras.layers.Dense(1, activation='sigmoid')\n",
        "])\n",
        "model3.compile(loss='binary_crossentropy', optimizer='adam', metrics=['accuracy'])\n",
        "model3.fit(train_data, train_labels, epochs = 20, validation_data = (test_data, test_labels))"
      ],
      "execution_count": 13,
      "outputs": [
        {
          "output_type": "stream",
          "text": [
            "Train on 25000 samples, validate on 25000 samples\n",
            "Epoch 1/20\n",
            "25000/25000 [==============================] - 10s 381us/sample - loss: 0.3149 - acc: 0.8658 - val_loss: 0.2843 - val_acc: 0.8807\n",
            "Epoch 2/20\n",
            "25000/25000 [==============================] - 9s 379us/sample - loss: 0.1435 - acc: 0.9444 - val_loss: 0.3629 - val_acc: 0.8663\n",
            "Epoch 3/20\n",
            "25000/25000 [==============================] - 9s 375us/sample - loss: 0.0413 - acc: 0.9852 - val_loss: 0.4551 - val_acc: 0.8671\n",
            "Epoch 4/20\n",
            "25000/25000 [==============================] - 9s 380us/sample - loss: 0.0139 - acc: 0.9952 - val_loss: 0.7712 - val_acc: 0.8658\n",
            "Epoch 5/20\n",
            "25000/25000 [==============================] - 10s 380us/sample - loss: 0.0150 - acc: 0.9952 - val_loss: 0.8015 - val_acc: 0.8654\n",
            "Epoch 6/20\n",
            "25000/25000 [==============================] - 9s 380us/sample - loss: 0.0120 - acc: 0.9958 - val_loss: 1.0470 - val_acc: 0.8668\n",
            "Epoch 7/20\n",
            "25000/25000 [==============================] - 10s 380us/sample - loss: 0.0056 - acc: 0.9980 - val_loss: 1.0061 - val_acc: 0.8671\n",
            "Epoch 8/20\n",
            "25000/25000 [==============================] - 9s 376us/sample - loss: 0.0092 - acc: 0.9971 - val_loss: 0.7897 - val_acc: 0.8648\n",
            "Epoch 9/20\n",
            "25000/25000 [==============================] - 10s 385us/sample - loss: 0.0062 - acc: 0.9981 - val_loss: 1.0578 - val_acc: 0.8684\n",
            "Epoch 10/20\n",
            "25000/25000 [==============================] - 10s 394us/sample - loss: 0.0040 - acc: 0.9989 - val_loss: 1.1751 - val_acc: 0.8638\n",
            "Epoch 11/20\n",
            "25000/25000 [==============================] - 10s 387us/sample - loss: 0.0062 - acc: 0.9980 - val_loss: 0.9992 - val_acc: 0.8652\n",
            "Epoch 12/20\n",
            "25000/25000 [==============================] - 9s 375us/sample - loss: 0.0107 - acc: 0.9974 - val_loss: 0.9069 - val_acc: 0.8668\n",
            "Epoch 13/20\n",
            "25000/25000 [==============================] - 9s 374us/sample - loss: 0.0034 - acc: 0.9991 - val_loss: 1.2389 - val_acc: 0.8670\n",
            "Epoch 14/20\n",
            "25000/25000 [==============================] - 10s 389us/sample - loss: 0.0029 - acc: 0.9990 - val_loss: 1.5889 - val_acc: 0.8458\n",
            "Epoch 15/20\n",
            "25000/25000 [==============================] - 9s 377us/sample - loss: 0.0025 - acc: 0.9990 - val_loss: 1.2006 - val_acc: 0.8664\n",
            "Epoch 16/20\n",
            "25000/25000 [==============================] - 9s 378us/sample - loss: 0.0072 - acc: 0.9979 - val_loss: 1.0185 - val_acc: 0.8686\n",
            "Epoch 17/20\n",
            "25000/25000 [==============================] - 9s 378us/sample - loss: 0.0052 - acc: 0.9986 - val_loss: 1.0841 - val_acc: 0.8661\n",
            "Epoch 18/20\n",
            "25000/25000 [==============================] - 9s 379us/sample - loss: 0.0011 - acc: 0.9996 - val_loss: 1.2739 - val_acc: 0.8692\n",
            "Epoch 19/20\n",
            "25000/25000 [==============================] - 9s 374us/sample - loss: 6.7721e-06 - acc: 1.0000 - val_loss: 1.3514 - val_acc: 0.8687\n",
            "Epoch 20/20\n",
            "25000/25000 [==============================] - 9s 377us/sample - loss: 8.8041e-07 - acc: 1.0000 - val_loss: 1.3939 - val_acc: 0.8692\n"
          ],
          "name": "stdout"
        },
        {
          "output_type": "execute_result",
          "data": {
            "text/plain": [
              "<tensorflow.python.keras.callbacks.History at 0x7f4aa67fa198>"
            ]
          },
          "metadata": {
            "tags": []
          },
          "execution_count": 13
        }
      ]
    },
    {
      "cell_type": "code",
      "metadata": {
        "id": "K05B9Rc_3QAX",
        "colab_type": "code",
        "colab": {
          "base_uri": "https://localhost:8080/",
          "height": 731
        },
        "outputId": "b7e4286c-3769-4bda-b6b5-c6db5346ca92"
      },
      "source": [
        "model4 = tf.keras.models.Sequential([\n",
        "    tf.keras.layers.Dense(16, activation='relu'),\n",
        "    tf.keras.layers.Dropout(0.5),\n",
        "    tf.keras.layers.Dense(16, activation='relu'),\n",
        "    tf.keras.layers.Dropout(0.5),\n",
        "    tf.keras.layers.Dense(1, activation='sigmoid')\n",
        "])\n",
        "model4.compile(loss='binary_crossentropy', optimizer='adam', metrics=['accuracy'])\n",
        "model4.fit(train_data, train_labels, epochs = 20, validation_data = (test_data, test_labels))"
      ],
      "execution_count": 16,
      "outputs": [
        {
          "output_type": "stream",
          "text": [
            "Train on 25000 samples, validate on 25000 samples\n",
            "Epoch 1/20\n",
            "25000/25000 [==============================] - 7s 282us/sample - loss: 0.4813 - acc: 0.7766 - val_loss: 0.3029 - val_acc: 0.8810\n",
            "Epoch 2/20\n",
            "25000/25000 [==============================] - 7s 276us/sample - loss: 0.3260 - acc: 0.8785 - val_loss: 0.2923 - val_acc: 0.8819\n",
            "Epoch 3/20\n",
            "25000/25000 [==============================] - 7s 266us/sample - loss: 0.2717 - acc: 0.9021 - val_loss: 0.2986 - val_acc: 0.8818\n",
            "Epoch 4/20\n",
            "25000/25000 [==============================] - 7s 276us/sample - loss: 0.2442 - acc: 0.9142 - val_loss: 0.3074 - val_acc: 0.8756\n",
            "Epoch 5/20\n",
            "25000/25000 [==============================] - 7s 273us/sample - loss: 0.2241 - acc: 0.9217 - val_loss: 0.3371 - val_acc: 0.8788\n",
            "Epoch 6/20\n",
            "25000/25000 [==============================] - 7s 272us/sample - loss: 0.1998 - acc: 0.9315 - val_loss: 0.3449 - val_acc: 0.8784\n",
            "Epoch 7/20\n",
            "25000/25000 [==============================] - 7s 265us/sample - loss: 0.1850 - acc: 0.9353 - val_loss: 0.3636 - val_acc: 0.8764\n",
            "Epoch 8/20\n",
            "25000/25000 [==============================] - 7s 266us/sample - loss: 0.1727 - acc: 0.9397 - val_loss: 0.3882 - val_acc: 0.8760\n",
            "Epoch 9/20\n",
            "25000/25000 [==============================] - 7s 263us/sample - loss: 0.1670 - acc: 0.9419 - val_loss: 0.4185 - val_acc: 0.8754\n",
            "Epoch 10/20\n",
            "25000/25000 [==============================] - 7s 265us/sample - loss: 0.1533 - acc: 0.9471 - val_loss: 0.4906 - val_acc: 0.8743\n",
            "Epoch 11/20\n",
            "25000/25000 [==============================] - 7s 275us/sample - loss: 0.1484 - acc: 0.9481 - val_loss: 0.4739 - val_acc: 0.8744\n",
            "Epoch 12/20\n",
            "25000/25000 [==============================] - 7s 266us/sample - loss: 0.1486 - acc: 0.9484 - val_loss: 0.4607 - val_acc: 0.8721\n",
            "Epoch 13/20\n",
            "25000/25000 [==============================] - 7s 266us/sample - loss: 0.1403 - acc: 0.9512 - val_loss: 0.6006 - val_acc: 0.8702\n",
            "Epoch 14/20\n",
            "25000/25000 [==============================] - 7s 268us/sample - loss: 0.1324 - acc: 0.9550 - val_loss: 0.5696 - val_acc: 0.8718\n",
            "Epoch 15/20\n",
            "25000/25000 [==============================] - 7s 265us/sample - loss: 0.1350 - acc: 0.9524 - val_loss: 0.5509 - val_acc: 0.8727\n",
            "Epoch 16/20\n",
            "25000/25000 [==============================] - 7s 265us/sample - loss: 0.1316 - acc: 0.9560 - val_loss: 0.5732 - val_acc: 0.8728\n",
            "Epoch 17/20\n",
            "25000/25000 [==============================] - 7s 263us/sample - loss: 0.1262 - acc: 0.9564 - val_loss: 0.6570 - val_acc: 0.8727\n",
            "Epoch 18/20\n",
            "25000/25000 [==============================] - 7s 265us/sample - loss: 0.1239 - acc: 0.9581 - val_loss: 0.7082 - val_acc: 0.8734\n",
            "Epoch 19/20\n",
            "25000/25000 [==============================] - 7s 266us/sample - loss: 0.1256 - acc: 0.9575 - val_loss: 0.6617 - val_acc: 0.8718\n",
            "Epoch 20/20\n",
            "25000/25000 [==============================] - 7s 266us/sample - loss: 0.1214 - acc: 0.9587 - val_loss: 0.7368 - val_acc: 0.8731\n"
          ],
          "name": "stdout"
        },
        {
          "output_type": "execute_result",
          "data": {
            "text/plain": [
              "<tensorflow.python.keras.callbacks.History at 0x7f4a8ec95898>"
            ]
          },
          "metadata": {
            "tags": []
          },
          "execution_count": 16
        }
      ]
    },
    {
      "cell_type": "code",
      "metadata": {
        "id": "bLOM9ybw3-9l",
        "colab_type": "code",
        "colab": {}
      },
      "source": [
        ""
      ],
      "execution_count": 0,
      "outputs": []
    }
  ]
}